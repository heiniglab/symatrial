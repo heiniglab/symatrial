{
  "nbformat": 4,
  "nbformat_minor": 0,
  "metadata": {
    "kernelspec": {
      "display_name": "R",
      "language": "R",
      "name": "ir"
    },
    "language_info": {
      "codemirror_mode": "r",
      "file_extension": ".r",
      "mimetype": "text/x-r-source",
      "name": "R",
      "pygments_lexer": "r",
      "version": "3.3.1"
    },
    "colab": {
      "name": "PRSenrichQTL_tutorial.ipynb",
      "provenance": [],
      "collapsed_sections": [],
      "toc_visible": true
    }
  },
  "cells": [
    {
      "cell_type": "markdown",
      "metadata": {
        "id": "7oOMohGzCXft",
        "colab_type": "text"
      },
      "source": [
        "# PRS-preselection-based trans QTL analysis\n",
        "\n",
        "# Summary\n",
        "\n",
        "This is a short summary of our polygenic risk score (PRS) based pathway enrichment approach to preselect candidate genes for trans QTL analyses.\n",
        "\n",
        "You can find a preprint version of the manuscript  \n",
        "Ines Assum & Julia Krause et al., Tissue-specific multiOMICs analysis of atrial fibrillation, *bioRxiv* (2020)  \n",
        "here:\n",
        "https://doi.org/10.1101/2020.04.06.021527\n",
        "\n",
        "We address a key hypothesis about the existence of core genes as postulated in the omnigenic model by [Liu et al.](https://doi.org/10.1016/j.cell.2019.04.014), *Cell* (2019). Core genes are central genes with trans-associations to GWAS loci, whose expression levels directly affect a disease phenotype. Here we sought to identify candidate core genes for AF to understand the contribution of trans-genetic effects in the pathology of AF. To prioritize genes satisfying the properties predicted by the omnigenic model, we evaluated the accumulation of trans-effects, their relevance in gene regulatory networks, and the disease association by the following strategy:\n",
        "\n",
        "\n",
        "i) Evaluate cumulated trans-effects of disease-associated variants on expression by ranking genes based on their correlation of mRNA and protein abundance with a PRS (eQTS) as proposed by [Võsa et al.](https://doi.org/10.1101/447367), *bioRxiv* (2018)\n",
        "\n",
        "ii) Identify genes sharing molecular function and representing biological networks that propagate genetic trans-effects to core genes by pathway enrichment analysis (GSEA) on the eQTS rankings. Genes driving the enrichment of multiple gene sets were selected as core gene candidates.\n",
        "\n",
        "iii) Establish the link between the core gene candidates and the disease based on a significant trans eQTL GWAS hit.\n",
        "\n",
        "# Example\n",
        "\n",
        "## Requirements\n",
        "\n",
        "This tutorial uses the following packages:\n",
        "\n",
        "* [fgsea](https://bioconductor.org/packages/release/bioc/html/fgsea.html)\n",
        "* [MatrixEQTL](https://github.com/andreyshabalin/MatrixEQTL)\n",
        "* [eQTLpipeline](https://github.com/matthiasheinig/eQTLpipeline)\n",
        "\n",
        "and data\n",
        "\n",
        "* [1k_genomes_PRS_expr.tsv](https://github.com/heiniglab/symatrial/blob/master/example_data/1k_genomes_PRS_expr.tsv)\n",
        "* [1k_genomes_AF_snps.txt](https://github.com/heiniglab/symatrial/blob/master/example_data/1k_genomes_AF_snps.txt)\n",
        "* [GO bp .gmt file](https://www.gsea-msigdb.org/gsea/msigdb/download_file.jsp?filePath=/msigdb/release/7.1/c5.bp.v7.1.symbols.gmt).\n",
        "\n",
        "Packages are installed in the first code chunk (running it might take up to 15 minutes). You can skip the first code chunk and only load the precomputed results, if you are in a hurry.\n",
        "\n",
        "All necessary data is downloaded automatically, you only need to download gene set annotations for the GO biological processes ([GO bp .gmt file](https://www.gsea-msigdb.org/gsea/msigdb/download_file.jsp?filePath=/msigdb/release/7.1/c5.bp.v7.1.symbols.gmt)).\n",
        "To temporarily upload files to this runtime, click on the folder symbol on the top left. Using the panel that opens, you can choose \"Upload\" to open a window to browse your local file system."
      ]
    },
    {
      "cell_type": "code",
      "metadata": {
        "id": "0dXVDkyWCXfy",
        "colab_type": "code",
        "outputId": "74b43816-0ce4-419f-cb1c-3c7d7dc77d01",
        "colab": {
          "base_uri": "https://localhost:8080/",
          "height": 139
        }
      },
      "source": [
        "#Install necessary libraries\n",
        "install.packages(c(\"devtools\",\"RColorBrewer\"), dependencies = T, clean = T)\n",
        "BiocManager::install(\"fgsea\", dependencies = T, clean = T)\n",
        "\n",
        "library(devtools)\n",
        "devtools::install_github(\"andreyshabalin/MatrixEQTL\", force=T)\n",
        "devtools::install_github(\"matthiasheinig/eQTLpipeline\", force=T)\n",
        "\n",
        "#Load libraries\n",
        "library(fgsea)\n",
        "library(MatrixEQTL)\n",
        "library(eQTLpipeline)"
      ],
      "execution_count": 0,
      "outputs": [
        {
          "output_type": "stream",
          "text": [
            "Installing packages into ‘/usr/local/lib/R/site-library’\n",
            "(as ‘lib’ is unspecified)\n",
            "\n",
            "also installing the dependencies ‘clisymbols’, ‘gargle’, ‘cyclocomp’, ‘xmlparsedata’, ‘highlight’, ‘parsedate’, ‘rappdirs’, ‘whoami’, ‘hunspell’, ‘BiocManager’, ‘curl’, ‘foghorn’, ‘gmailr’, ‘lintr’, ‘mockery’, ‘pingr’, ‘pkgdown’, ‘rhub’, ‘spelling’\n",
            "\n",
            "\n"
          ],
          "name": "stderr"
        }
      ]
    },
    {
      "cell_type": "markdown",
      "metadata": {
        "id": "NdURZ8SMIPDQ",
        "colab_type": "text"
      },
      "source": [
        "## Loading data\n",
        "\n",
        "In the following, we show the general procedure based on public data (272 individuals from the 1000 genomes LCL data).  \n",
        "We supply a small test dataset with pre-computed PRS values for AF and CAD as well as gene expression for 830 genes (`1k_genomes_PRS_expr.tsv`). Additionally, genotypes for 109 pruned AF SNPs for those individuals are supplied (`1k_genomes_AF_snps.txt`) in MatrixEQTL format."
      ]
    },
    {
      "cell_type": "code",
      "metadata": {
        "id": "27GnAJsuIWaz",
        "colab_type": "code",
        "colab": {}
      },
      "source": [
        "df <- read.csv(file = \"https://github.com/heiniglab/symatrial/raw/master/example_data/1k_genomes_PRS_expr.tsv\",\n",
        "               sep = \"\\t\", h = T, stringsAsFactors = F)\n",
        "print.data.frame(df[1:5, 1:10],\n",
        "                 row.names = F, digits = 3)"
      ],
      "execution_count": 0,
      "outputs": []
    },
    {
      "cell_type": "markdown",
      "metadata": {
        "id": "LWxZ80Ey_-yH",
        "colab_type": "text"
      },
      "source": [
        "## eQTS ranking\n",
        "First step is to calculate the eQTS rankings:"
      ]
    },
    {
      "cell_type": "code",
      "metadata": {
        "id": "Qc83wlqZAAew",
        "colab_type": "code",
        "colab": {}
      },
      "source": [
        "eQTS <- data.frame(matrix(nrow = 830, ncol = 5),\n",
        "                   stringsAsFactors = F,\n",
        "                   row.names = colnames(df)[-c(1:7)])\n",
        "colnames(eQTS) <- c(\"id\", \"Estimate\", \"StdError\", \"tvalue\", \"pvalueT\")\n",
        "data <- df[, c(\"id\", \"PRS.AF\", \"PRS.AF.percentile\",\n",
        "               \"PRS.CAD\", \"PRS.CAD.percentile\",\n",
        "               \"sex\", \"population\")]\n",
        "for (i in 8:(dim(df)[2])){\n",
        "    id <- colnames(df)[i]\n",
        "    data$expr <- df[, id]\n",
        "    lmres <- lm(expr ~ sex + PRS.AF.percentile,\n",
        "                data = data)\n",
        "    eQTS[id, ] <- c(id,\n",
        "                    summary(lmres)$coefficients[\"PRS.AF.percentile\", ])\n",
        "    if(i %% 100 == 0) print(paste0(\"Gene \", i-7, \" / \", dim(df)[2]-7, \" done\"))\n",
        "}\n",
        "eQTS[, -1] <- apply(eQTS[, -1], 2, as.numeric)\n",
        "eQTS <- eQTS[order(eQTS$pvalueT), ]\n",
        "\n",
        "print(\"Top five associated genes:\")\n",
        "print.data.frame(eQTS[1:5, ],\n",
        "                 row.names = F, digits = 3)"
      ],
      "execution_count": 0,
      "outputs": []
    },
    {
      "cell_type": "markdown",
      "metadata": {
        "id": "kX-g6x-9ALKO",
        "colab_type": "text"
      },
      "source": [
        "## Load pathway annotations\n",
        "\n",
        "As mentioned before, please download GO biological processes gene sets first, [GO bp .gmt file](https://www.gsea-msigdb.org/gsea/msigdb/download_file.jsp?filePath=/msigdb/release/7.1/c5.bp.v7.1.symbols.gmt),\n",
        "then import them into R using the fgsea package."
      ]
    },
    {
      "cell_type": "code",
      "metadata": {
        "id": "H7ihUaWxAW7M",
        "colab_type": "code",
        "colab": {}
      },
      "source": [
        "if(!file.exists(\"c5.bp.v7.1.symbols.gmt\")){\n",
        "  cat(\"To actually run the tutorial, please install the package 'fgsea' and \n",
        "  download pathway annotations to move on! \n",
        "  To upload the .gmt file, click on the folder symbol on the top left. \n",
        "  Using the panel that opens, you can choose 'Upload' to open a window to \n",
        "  browse your local file system.\")\n",
        "} else {\n",
        "  try({\n",
        "    gmt <- gmtPathways(\"c5.bp.v7.1.symbols.gmt\")\n",
        "    print(\"GO biological processes gene set annotations loaded.\")\n",
        "    head(gmt, 1)\n",
        "  }, print(\"Loading gene set annotations not successful. Library 'fgsea' probably not installed.\"))\n",
        "}"
      ],
      "execution_count": 0,
      "outputs": []
    },
    {
      "cell_type": "markdown",
      "metadata": {
        "id": "4GbDL4q_BCyD",
        "colab_type": "text"
      },
      "source": [
        "## Compute gene set enrichment analysis on eQTS ranking:\n"
      ]
    },
    {
      "cell_type": "code",
      "metadata": {
        "id": "KwyD8yfSBHok",
        "colab_type": "code",
        "colab": {}
      },
      "source": [
        "fgsea.res <- NULL\n",
        "try({\n",
        "  set.seed(1111)\n",
        "  rank <- eQTS[, \"tvalue\"]\n",
        "  names(rank) <- eQTS[, \"id\"]\n",
        "  fgsea.res <- fgsea(gmt,\n",
        "                     rank,\n",
        "                     nperm=10000,\n",
        "                     minSize = 5,\n",
        "                     maxSize=100)\n",
        "  fgsea.res <- fgsea.res[order(fgsea.res$pval), ]\n",
        "})\n",
        "  \n",
        "if(is.null(fgsea.res)){\n",
        "  print(\"'fgsea' is not installed or pathway annotations are missing. Let's load the results ...\")\n",
        "  download.file(\"https://github.com/heiniglab/symatrial/raw/master/example_data/1k_genomes_fgsea_eQTS.RDS\",\n",
        "                dest = \"1k_genomes_fgsea_eQTS.RDS\")\n",
        "  fgsea.res <- data.frame(readRDS(\"1k_genomes_fgsea_eQTS.RDS\"))\n",
        "  print(\"... fgsea results loaded.\")\n",
        "}"
      ],
      "execution_count": 0,
      "outputs": []
    },
    {
      "cell_type": "markdown",
      "metadata": {
        "id": "B2d4qqhXg9yS",
        "colab_type": "text"
      },
      "source": [
        "Top five pathways:"
      ]
    },
    {
      "cell_type": "code",
      "metadata": {
        "id": "sBeamPxXg-h6",
        "colab_type": "code",
        "colab": {}
      },
      "source": [
        "head(fgsea.res[1:5, ])"
      ],
      "execution_count": 0,
      "outputs": []
    },
    {
      "cell_type": "markdown",
      "metadata": {
        "id": "Qxybeb5bBa1p",
        "colab_type": "text"
      },
      "source": [
        "## Extract the leadingEdge as candidate genes:\n",
        "\n",
        "As this is only an example dataset for demonstration, we choose a significane threshold of P < 0.01. However, for a real analysis we would recommend a much more stringent cutoff based on the adjusted p-value (FDR).\n",
        "\n",
        "For each gene set, the leadingEdge contains the genes that possibly drive the enrichment. We therefore use those genes for significant pathways. To narrow it down further, we check if the same genes are contained in the leadingEdge of multiple pathways.  \n",
        "We take all genes, that appear more than 5 times (8 genes in total) as candidates for the trans eQTL analysis."
      ]
    },
    {
      "cell_type": "code",
      "metadata": {
        "id": "nPDDasH0BbR4",
        "colab_type": "code",
        "colab": {}
      },
      "source": [
        "lead <- data.frame(table(unlist( fgsea.res[fgsea.res$pval<0.01, \"leadingEdge\"])))\n",
        "hist(lead$Freq, breaks = 10,\n",
        "      main = \"Distribution: Frequencies of genes in multiple leading edges:\")"
      ],
      "execution_count": 0,
      "outputs": []
    },
    {
      "cell_type": "markdown",
      "metadata": {
        "id": "K768HH65jMA2",
        "colab_type": "text"
      },
      "source": [
        "Let's select the top candidates that appear more than 5 times:"
      ]
    },
    {
      "cell_type": "code",
      "metadata": {
        "id": "tpsSwjlnjMN_",
        "colab_type": "code",
        "colab": {}
      },
      "source": [
        "candidates <- as.character(lead[lead$Freq>5, \"Var1\"])\n",
        "print(candidates)"
      ],
      "execution_count": 0,
      "outputs": []
    },
    {
      "cell_type": "markdown",
      "metadata": {
        "id": "vmfAwCsT4Mj4",
        "colab_type": "text"
      },
      "source": [
        "## Run trans eQTL analysis\n",
        "\n",
        "Let's run a trans eQTL analysis for those eight genes and the 109 AF GWAS SNPs:\n"
      ]
    },
    {
      "cell_type": "code",
      "metadata": {
        "id": "vs7OGsjw2Vj_",
        "colab_type": "code",
        "colab": {}
      },
      "source": [
        "eQTL <- NULL\n",
        "try({\n",
        "  eQTL <- trans.qtl(prefix = \"/tmp/example\",\n",
        "                    genotype_file_name = \"https://github.com/heiniglab/symatrial/raw/master/example_data/1k_genomes_AF_snps.txt\",\n",
        "                    expression_file_name = t(df[, candidates]),\n",
        "                    covariates_file_name = df$sex,\n",
        "                    threshold = 1,\n",
        "                    compute.all = T,\n",
        "                    min.pv.by.genesnp = T,\n",
        "                    save.memory = F,\n",
        "                    load.qtls = T)\n",
        "})\n",
        "if(is.null(eQTL)){\n",
        "  print(\"Libraries 'MatrixEQTL' and 'eQTLpipeline' not available. Let's load the results...\")\n",
        "  download.file(\"https://github.com/heiniglab/symatrial/raw/master/example_data/1k_genomes_trans_eQTLs.RDS\",\n",
        "                dest = \"1k_genomes_trans_eQTLs.RDS\")\n",
        "  eQTL <- readRDS(\"1k_genomes_trans_eQTLs.RDS\")\n",
        "  print(\"... eQTL results loaded.\")\n",
        "}"
      ],
      "execution_count": 0,
      "outputs": []
    },
    {
      "cell_type": "markdown",
      "metadata": {
        "id": "JBrnAKa6jl03",
        "colab_type": "text"
      },
      "source": [
        "Top trans eQTLs:"
      ]
    },
    {
      "cell_type": "code",
      "metadata": {
        "id": "uQzyLqoLjmCB",
        "colab_type": "code",
        "colab": {}
      },
      "source": [
        "head(eQTL$all$eqtls[order(eQTL$all$eqtls$pvalue), ])"
      ],
      "execution_count": 0,
      "outputs": []
    }
  ]
}