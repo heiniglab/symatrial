{
  "nbformat": 4,
  "nbformat_minor": 0,
  "metadata": {
    "kernelspec": {
      "display_name": "R",
      "language": "R",
      "name": "ir"
    },
    "language_info": {
      "codemirror_mode": "r",
      "file_extension": ".r",
      "mimetype": "text/x-r-source",
      "name": "R",
      "pygments_lexer": "r",
      "version": "3.3.1"
    },
    "colab": {
      "name": "PRSenrichQTL_tutorial.ipynb",
      "provenance": [],
      "collapsed_sections": []
    }
  },
  "cells": [
    {
      "cell_type": "markdown",
      "metadata": {
        "id": "7oOMohGzCXft",
        "colab_type": "text"
      },
      "source": [
        "# PRS-preselection-based trans QTL analysis\n",
        "\n",
        "# Summary\n",
        "\n",
        "This is a short summary of our polygenic risk score (PRS) based pathway enrichment approach to preselect candidate genes for trans QTL analyses.\n",
        "\n",
        "You can find a preprint version of the manuscript  \n",
        "Ines Assum & Julia Krause et al., Tissue-specific multiOMICs analysis of atrial fibrillation, *bioRxiv* (2020)  \n",
        "here:\n",
        "https://doi.org/10.1101/2020.04.06.021527\n",
        "\n",
        "We address a key hypothesis about the existence of core genes as postulated in the omnigenic model by [Liu et al.](https://doi.org/10.1016/j.cell.2019.04.014), *Cell* (2019). Core genes are central genes with trans-associations to GWAS loci, whose expression levels directly affect a disease phenotype. Here we sought to identify candidate core genes for AF to understand the contribution of trans-genetic effects in the pathology of AF. To prioritize genes satisfying the properties predicted by the omnigenic model, we evaluated the accumulation of trans-effects, their relevance in gene regulatory networks, and the disease association by the following strategy:\n",
        "\n",
        "\n",
        "i) Evaluate cumulated trans-effects of disease-associated variants on expression by ranking genes based on their correlation of mRNA and protein abundance with a PRS (eQTS) as proposed by [Võsa et al.](https://doi.org/10.1101/447367), *bioRxiv* (2018)\n",
        "\n",
        "ii) Identify genes sharing molecular function and representing biological networks that propagate genetic trans-effects to core genes by pathway enrichment analysis (GSEA) on the eQTS rankings. Genes driving the enrichment of multiple gene sets were selected as core gene candidates.\n",
        "\n",
        "iii) Establish the link between the core gene candidates and the disease based on a significant trans eQTL GWAS hit.\n",
        "\n",
        "# Example\n",
        "\n",
        "## Requirements\n",
        "\n",
        "This tutorial uses the following packages:\n",
        "\n",
        "* [fgsea](https://bioconductor.org/packages/release/bioc/html/fgsea.html)\n",
        "* [MatrixEQTL](https://github.com/andreyshabalin/MatrixEQTL)\n",
        "* [eQTLpipeline](https://github.com/matthiasheinig/eQTLpipeline)\n",
        "\n",
        "and data\n",
        "\n",
        "* [1k_genomes_PRS_expr.tsv](https://github.com/heiniglab/symatrial/blob/master/example_data/1k_genomes_PRS_expr.tsv)\n",
        "* [1k_genomes_AF_snps.txt](https://github.com/heiniglab/symatrial/blob/master/example_data/1k_genomes_AF_snps.txt)\n",
        "* [GO bp .gmt file](https://www.gsea-msigdb.org/gsea/msigdb/download_file.jsp?filePath=/msigdb/release/7.1/c5.bp.v7.1.symbols.gmt).\n",
        "\n",
        "Packages are installed in the first code chunk (running it might take up to 15 minutes) and the sample dataset is downloaded in the second.\n",
        "\n",
        "You only need to download gene set annotations for the GO biological processes ([GO bp .gmt file](https://www.gsea-msigdb.org/gsea/msigdb/download_file.jsp?filePath=/msigdb/release/7.1/c5.bp.v7.1.symbols.gmt)).\n",
        "To upload the .gmt file, click on the folder symbol on the top left. Using the panel that opens, you can choose \"Upload\" to open a window to browse your local file system."
      ]
    },
    {
      "cell_type": "code",
      "metadata": {
        "id": "0dXVDkyWCXfy",
        "colab_type": "code",
        "outputId": "a9984225-fb2e-4be5-a5ec-b9ed18b9bf17",
        "colab": {
          "base_uri": "https://localhost:8080/",
          "height": 972
        }
      },
      "source": [
        "#Install necessary libraries\n",
        "install.packages(c(\"devtools\",\"RColorBrewer\"), dependencies = T, clean = T)\n",
        "BiocManager::install(\"fgsea\", dependencies = T, clean = T)\n",
        "\n",
        "library(devtools)\n",
        "devtools::install_github(\"andreyshabalin/MatrixEQTL\", force=T)\n",
        "devtools::install_github(\"matthiasheinig/eQTLpipeline\", force=T)"
      ],
      "execution_count": 1,
      "outputs": [
        {
          "output_type": "stream",
          "text": [
            "Installing packages into ‘/usr/local/lib/R/site-library’\n",
            "(as ‘lib’ is unspecified)\n",
            "\n",
            "also installing the dependencies ‘clisymbols’, ‘gargle’, ‘cyclocomp’, ‘xmlparsedata’, ‘highlight’, ‘parsedate’, ‘rappdirs’, ‘whoami’, ‘hunspell’, ‘BiocManager’, ‘curl’, ‘foghorn’, ‘gmailr’, ‘lintr’, ‘mockery’, ‘pingr’, ‘pkgdown’, ‘rhub’, ‘spelling’\n",
            "\n",
            "\n",
            "Bioconductor version 3.10 (BiocManager 1.30.10), R 3.6.3 (2020-02-29)\n",
            "\n",
            "Installing package(s) 'BiocVersion', 'fgsea'\n",
            "\n",
            "also installing the dependencies ‘formatR’, ‘bit’, ‘lambda.r’, ‘futile.options’, ‘bit64’, ‘blob’, ‘futile.logger’, ‘snow’, ‘BiocGenerics’, ‘Biobase’, ‘IRanges’, ‘RSQLite’, ‘S4Vectors’, ‘data.table’, ‘BiocParallel’, ‘gridExtra’, ‘fastmatch’, ‘reactome.db’, ‘AnnotationDbi’, ‘org.Mm.eg.db’, ‘limma’, ‘GEOquery’\n",
            "\n",
            "\n",
            "Old packages: 'backports', 'curl', 'ellipsis', 'farver', 'glue', 'modelr',\n",
            "  'processx', 'rex', 'rprojroot', 'systemfonts', 'tidyr', 'tinytex', 'xfun'\n",
            "\n",
            "Loading required package: usethis\n",
            "\n",
            "Downloading GitHub repo andreyshabalin/MatrixEQTL@master\n",
            "\n"
          ],
          "name": "stderr"
        },
        {
          "output_type": "stream",
          "text": [
            "\u001b[32m✔\u001b[39m  \u001b[90mchecking for file ‘/tmp/Rtmpf1ao1k/remotes787b596895/andreyshabalin-MatrixEQTL-681b367/DESCRIPTION’\u001b[39m\u001b[36m\u001b[39m\n",
            "\u001b[90m─\u001b[39m\u001b[90m  \u001b[39m\u001b[90mpreparing ‘MatrixEQTL’:\u001b[39m\u001b[36m\u001b[39m\n",
            "\u001b[32m✔\u001b[39m  \u001b[90mchecking DESCRIPTION meta-information\u001b[39m\u001b[36m\u001b[39m\n",
            "\u001b[90m─\u001b[39m\u001b[90m  \u001b[39m\u001b[90mchecking for LF line-endings in source and make files and shell scripts\u001b[39m\u001b[36m\u001b[39m\n",
            "\u001b[90m─\u001b[39m\u001b[90m  \u001b[39m\u001b[90mchecking for empty or unneeded directories\u001b[39m\u001b[36m\u001b[39m\n",
            "\u001b[90m─\u001b[39m\u001b[90m  \u001b[39m\u001b[90mlooking to see if a ‘data/datalist’ file should be added\u001b[39m\u001b[36m\u001b[39m\n",
            "\u001b[90m─\u001b[39m\u001b[90m  \u001b[39m\u001b[90mbuilding ‘MatrixEQTL_2.3.tar.gz’\u001b[39m\u001b[36m\u001b[39m\n",
            "   \n"
          ],
          "name": "stdout"
        },
        {
          "output_type": "stream",
          "text": [
            "Installing package into ‘/usr/local/lib/R/site-library’\n",
            "(as ‘lib’ is unspecified)\n",
            "\n",
            "Downloading GitHub repo matthiasheinig/eQTLpipeline@master\n",
            "\n"
          ],
          "name": "stderr"
        },
        {
          "output_type": "stream",
          "text": [
            "BatchJobs (NA    -> 1.8  ) [CRAN]\n",
            "checkmate (NA    -> 2.0.0) [CRAN]\n",
            "backports (1.1.6 -> 1.1.7) [CRAN]\n",
            "ellipsis  (0.3.0 -> 0.3.1) [CRAN]\n",
            "glue      (1.4.0 -> 1.4.1) [CRAN]\n",
            "BBmisc    (NA    -> 1.11 ) [CRAN]\n",
            "sendmailR (NA    -> 1.2-1) [CRAN]\n"
          ],
          "name": "stdout"
        },
        {
          "output_type": "stream",
          "text": [
            "Installing 7 packages: BatchJobs, checkmate, backports, ellipsis, glue, BBmisc, sendmailR\n",
            "\n",
            "Installing packages into ‘/usr/local/lib/R/site-library’\n",
            "(as ‘lib’ is unspecified)\n",
            "\n"
          ],
          "name": "stderr"
        },
        {
          "output_type": "stream",
          "text": [
            "\u001b[32m✔\u001b[39m  \u001b[90mchecking for file ‘/tmp/Rtmpf1ao1k/remotes784174166b/matthiasheinig-eQTLpipeline-c4f2f5b/DESCRIPTION’\u001b[39m\u001b[36m\u001b[39m\n",
            "\u001b[90m─\u001b[39m\u001b[90m  \u001b[39m\u001b[90mpreparing ‘eQTLpipeline’:\u001b[39m\u001b[36m\u001b[39m\n",
            "\u001b[32m✔\u001b[39m  \u001b[90mchecking DESCRIPTION meta-information\u001b[39m\u001b[36m\u001b[39m\n",
            "\u001b[90m─\u001b[39m\u001b[90m  \u001b[39m\u001b[90mchecking for LF line-endings in source and make files and shell scripts\u001b[39m\u001b[36m\u001b[39m\n",
            "\u001b[90m─\u001b[39m\u001b[90m  \u001b[39m\u001b[90mchecking for empty or unneeded directories\u001b[39m\u001b[36m\u001b[39m\n",
            "\u001b[90m─\u001b[39m\u001b[90m  \u001b[39m\u001b[90mbuilding ‘eQTLpipeline_0.1.tar.gz’\u001b[39m\u001b[36m\u001b[39m\n",
            "   \n"
          ],
          "name": "stdout"
        },
        {
          "output_type": "stream",
          "text": [
            "Installing package into ‘/usr/local/lib/R/site-library’\n",
            "(as ‘lib’ is unspecified)\n",
            "\n"
          ],
          "name": "stderr"
        }
      ]
    },
    {
      "cell_type": "code",
      "metadata": {
        "id": "Q0dOdnpZ1Z9Z",
        "colab_type": "code",
        "colab": {
          "base_uri": "https://localhost:8080/",
          "height": 51
        },
        "outputId": "595434e3-d342-4887-8509-ef93d7ccdc41"
      },
      "source": [
        "#Download data set\n",
        "download.file(\"https://raw.githubusercontent.com/heiniglab/symatrial/master/example_data/1k_genomes_PRS_expr.tsv\",\n",
        "              destfile = \"1k_genomes_PRS_expr.tsv\")\n",
        "download.file(\"https://raw.githubusercontent.com/heiniglab/symatrial/master/example_data/1k_genomes_AF_snps.txt\",\n",
        "              destfile = \"1k_genomes_AF_snps.txt\")\n",
        "dir.create(\"/tmp/\")"
      ],
      "execution_count": 4,
      "outputs": [
        {
          "output_type": "stream",
          "text": [
            "Warning message in dir.create(\"/tmp/\"):\n",
            "“'/tmp' already exists”\n"
          ],
          "name": "stderr"
        }
      ]
    },
    {
      "cell_type": "code",
      "metadata": {
        "id": "uuScCL3dFbFQ",
        "colab_type": "code",
        "colab": {
          "base_uri": "https://localhost:8080/",
          "height": 1000
        },
        "outputId": "fca8f2bf-a1e9-4386-d588-11bb425203c5"
      },
      "source": [
        "#Load libraries\n",
        "library(fgsea)\n",
        "library(MatrixEQTL)\n",
        "library(eQTLpipeline)\n",
        "\n",
        "#R session info including all loaded libraries\n",
        "sessionInfo()"
      ],
      "execution_count": 6,
      "outputs": [
        {
          "output_type": "stream",
          "text": [
            "Loading required package: Rcpp\n",
            "\n",
            "Loading required package: data.table\n",
            "\n",
            "Loading required package: BatchJobs\n",
            "\n",
            "Loading required package: BBmisc\n",
            "\n",
            "\n",
            "Attaching package: ‘BBmisc’\n",
            "\n",
            "\n",
            "The following object is masked from ‘package:base’:\n",
            "\n",
            "    isFALSE\n",
            "\n",
            "\n",
            "The development of BatchJobs and BatchExperiments is discontinued.\n",
            "\n",
            "Consider switching to 'batchtools' for new features and improved stability\n",
            "\n",
            "Sourced 1 configuration files: \n",
            "\n",
            "  1: /usr/local/lib/R/site-library/BatchJobs/etc/BatchJobs_global_config.R\n",
            "\n",
            "BatchJobs configuration:\n",
            "  cluster functions: Interactive\n",
            "  mail.from: \n",
            "  mail.to: \n",
            "  mail.start: none\n",
            "  mail.done: none\n",
            "  mail.error: none\n",
            "  default.resources: \n",
            "  debug: FALSE\n",
            "  raise.warnings: FALSE\n",
            "  staged.queries: TRUE\n",
            "  max.concurrent.jobs: Inf\n",
            "  fs.timeout: NA\n",
            "  measure.mem: TRUE\n",
            "\n",
            "\n"
          ],
          "name": "stderr"
        },
        {
          "output_type": "display_data",
          "data": {
            "text/plain": [
              "R version 3.6.3 (2020-02-29)\n",
              "Platform: x86_64-pc-linux-gnu (64-bit)\n",
              "Running under: Ubuntu 18.04.3 LTS\n",
              "\n",
              "Matrix products: default\n",
              "BLAS:   /usr/lib/x86_64-linux-gnu/openblas/libblas.so.3\n",
              "LAPACK: /usr/lib/x86_64-linux-gnu/libopenblasp-r0.2.20.so\n",
              "\n",
              "locale:\n",
              " [1] LC_CTYPE=en_US.UTF-8       LC_NUMERIC=C              \n",
              " [3] LC_TIME=en_US.UTF-8        LC_COLLATE=en_US.UTF-8    \n",
              " [5] LC_MONETARY=en_US.UTF-8    LC_MESSAGES=en_US.UTF-8   \n",
              " [7] LC_PAPER=en_US.UTF-8       LC_NAME=C                 \n",
              " [9] LC_ADDRESS=C               LC_TELEPHONE=C            \n",
              "[11] LC_MEASUREMENT=en_US.UTF-8 LC_IDENTIFICATION=C       \n",
              "\n",
              "attached base packages:\n",
              "[1] stats     graphics  grDevices utils     datasets  methods   base     \n",
              "\n",
              "other attached packages:\n",
              "[1] eQTLpipeline_0.1  BatchJobs_1.8     BBmisc_1.11       data.table_1.12.8\n",
              "[5] MatrixEQTL_2.3    fgsea_1.12.0      Rcpp_1.0.4.6      devtools_2.3.0   \n",
              "[9] usethis_1.6.1    \n",
              "\n",
              "loaded via a namespace (and not attached):\n",
              " [1] lattice_0.20-41     prettyunits_1.1.1   ps_1.3.3           \n",
              " [4] assertthat_0.2.1    rprojroot_1.2       digest_0.6.25      \n",
              " [7] IRdisplay_0.7.0     R6_2.4.1            repr_1.1.0         \n",
              "[10] backports_1.1.6     RSQLite_2.2.0       evaluate_0.14      \n",
              "[13] ggplot2_3.3.0       pillar_1.4.4        rlang_0.4.6        \n",
              "[16] curl_4.3            uuid_0.1-4          blob_1.2.1         \n",
              "[19] callr_3.4.3         Matrix_1.2-18       checkmate_2.0.0    \n",
              "[22] desc_1.2.0          BiocParallel_1.20.1 bit_1.1-15.2       \n",
              "[25] munsell_0.5.0       sendmailR_1.2-1     compiler_3.6.3     \n",
              "[28] pkgconfig_2.0.3     base64enc_0.1-3     pkgbuild_1.0.8     \n",
              "[31] htmltools_0.4.0     tidyselect_1.1.0    tibble_3.0.1       \n",
              "[34] gridExtra_2.3       fansi_0.4.1         crayon_1.3.4       \n",
              "[37] dplyr_0.8.5         withr_2.2.0         grid_3.6.3         \n",
              "[40] jsonlite_1.6.1      gtable_0.3.0        lifecycle_0.2.0    \n",
              "[43] DBI_1.1.0           magrittr_1.5        scales_1.1.1       \n",
              "[46] stringi_1.4.6       cli_2.0.2           fs_1.4.1           \n",
              "[49] remotes_2.1.1       testthat_2.3.2      brew_1.0-6         \n",
              "[52] ellipsis_0.3.0      vctrs_0.3.0         fastmatch_1.1-0    \n",
              "[55] IRkernel_1.1        tools_3.6.3         bit64_0.9-7        \n",
              "[58] glue_1.4.0          purrr_0.3.4         processx_3.4.1     \n",
              "[61] pkgload_1.0.2       parallel_3.6.3      colorspace_1.4-1   \n",
              "[64] BiocManager_1.30.10 sessioninfo_1.1.1   memoise_1.1.0      \n",
              "[67] pbdZMQ_0.3-3       "
            ]
          },
          "metadata": {
            "tags": []
          }
        }
      ]
    },
    {
      "cell_type": "markdown",
      "metadata": {
        "id": "NdURZ8SMIPDQ",
        "colab_type": "text"
      },
      "source": [
        "## Loading data\n",
        "\n",
        "In the following, we show the general procedure based on public data (272 individuals from the 1000 genomes LCL data).  \n",
        "We supply a small test dataset with pre-computed PRS values for AF and CAD as well as gene expression for 830 genes (`1k_genomes_PRS_expr.tsv`). Additionally, genotypes for 109 pruned AF SNPs for those individuals are supplied (`1k_genomes_AF_snps.txt`) in MatrixEQTL format."
      ]
    },
    {
      "cell_type": "code",
      "metadata": {
        "id": "27GnAJsuIWaz",
        "colab_type": "code",
        "colab": {
          "base_uri": "https://localhost:8080/",
          "height": 221
        },
        "outputId": "80e01089-7f47-45fd-8b55-b811f8b7fd50"
      },
      "source": [
        "df <- read.csv(file = \"1k_genomes_PRS_expr.tsv\",\n",
        "               sep = \"\\t\", h = T, stringsAsFactors = F)\n",
        "print.data.frame(df[1:5, 1:10],\n",
        "                 row.names = F, digits = 3)"
      ],
      "execution_count": 5,
      "outputs": [
        {
          "output_type": "stream",
          "text": [
            "      id PRS.AF PRS.AF.percentile PRS.CAD PRS.CAD.percentile sex population\n",
            " HG00096   32.5             0.876    18.0              0.104   1        GBR\n",
            " HG00097   32.5             0.837    18.3              0.986   2        GBR\n",
            " HG00099   32.4             0.563    18.2              0.790   2        GBR\n",
            " HG00100   32.4             0.604    18.0              0.173   2        GBR\n",
            " HG00101   32.3             0.331    18.1              0.544   1        GBR\n",
            "  BAD DBNDD1 CD38\n",
            " 3.74   4.57 4.22\n",
            " 3.50   3.33 4.16\n",
            " 2.48   4.60 3.99\n",
            " 1.95   3.22 4.39\n",
            " 3.50   3.26 4.88\n"
          ],
          "name": "stdout"
        }
      ]
    },
    {
      "cell_type": "markdown",
      "metadata": {
        "id": "LWxZ80Ey_-yH",
        "colab_type": "text"
      },
      "source": [
        "## eQTS ranking\n",
        "First step is to calculate the eQTS rankings:"
      ]
    },
    {
      "cell_type": "code",
      "metadata": {
        "id": "Qc83wlqZAAew",
        "colab_type": "code",
        "colab": {
          "base_uri": "https://localhost:8080/",
          "height": 272
        },
        "outputId": "eda3f457-4999-461d-91b2-bb0520b5cfee"
      },
      "source": [
        "eQTS <- data.frame(matrix(nrow = 830, ncol = 5),\n",
        "                   stringsAsFactors = F,\n",
        "                   row.names = colnames(df)[-c(1:7)])\n",
        "colnames(eQTS) <- c(\"id\", \"Estimate\", \"StdError\", \"tvalue\", \"pvalueT\")\n",
        "data <- df[, c(\"id\", \"PRS.AF\", \"PRS.AF.percentile\",\n",
        "               \"PRS.CAD\", \"PRS.CAD.percentile\",\n",
        "               \"sex\", \"population\")]\n",
        "for (i in 8:(dim(df)[2])){\n",
        "    #i=8\n",
        "    id <- colnames(df)[i]\n",
        "    data$expr <- df[, id]\n",
        "    lmres <- lm(expr ~ sex + PRS.AF.percentile,\n",
        "                data = data)\n",
        "    eQTS[id, ] <- c(id,\n",
        "                    summary(lmres)$coefficients[\"PRS.AF.percentile\", ])\n",
        "    if(i %% 100 == 0) print(paste0(\"Gene \", i-7, \" / \", dim(df)[2]-7, \" done\"))\n",
        "}\n",
        "eQTS[, -1] <- apply(eQTS[, -1], 2, as.numeric)\n",
        "eQTS <- eQTS[order(eQTS$pvalueT), ]\n",
        "\n",
        "print(\"Top five associated genes:\")\n",
        "print.data.frame(eQTS[1:5, ],\n",
        "                 row.names = F, digits = 3)"
      ],
      "execution_count": 7,
      "outputs": [
        {
          "output_type": "stream",
          "text": [
            "[1] \"Gene 93 / 830 done\"\n",
            "[1] \"Gene 193 / 830 done\"\n",
            "[1] \"Gene 293 / 830 done\"\n",
            "[1] \"Gene 393 / 830 done\"\n",
            "[1] \"Gene 493 / 830 done\"\n",
            "[1] \"Gene 593 / 830 done\"\n",
            "[1] \"Gene 693 / 830 done\"\n",
            "[1] \"Gene 793 / 830 done\"\n",
            "[1] \"Top five associated genes:\"\n",
            "           id Estimate StdError tvalue  pvalueT\n",
            " NAALADL2.AS2    1.019   0.1696   6.01 6.03e-09\n",
            "      BCL2L10    0.458   0.0968   4.73 3.64e-06\n",
            "         CLMN    0.465   0.1052   4.42 1.42e-05\n",
            "   AL606807.1    0.474   0.1080   4.39 1.65e-05\n",
            "       KIF21A    0.383   0.0933   4.11 5.31e-05\n"
          ],
          "name": "stdout"
        }
      ]
    },
    {
      "cell_type": "markdown",
      "metadata": {
        "id": "kX-g6x-9ALKO",
        "colab_type": "text"
      },
      "source": [
        "## Load pathway annotations\n",
        "\n",
        "As mentioned before, please download GO biological processes gene sets first, [GO bp .gmt file](https://www.gsea-msigdb.org/gsea/msigdb/download_file.jsp?filePath=/msigdb/release/7.1/c5.bp.v7.1.symbols.gmt),\n",
        "then import them into R using the fgsea package."
      ]
    },
    {
      "cell_type": "code",
      "metadata": {
        "id": "H7ihUaWxAW7M",
        "colab_type": "code",
        "colab": {
          "base_uri": "https://localhost:8080/",
          "height": 34
        },
        "outputId": "fa6ef8ee-a3f7-4777-e067-5ad9fbf82eee"
      },
      "source": [
        "if(!file.exists(\"c5.bp.v7.1.symbols.gmt\")){\n",
        "  cat(\"Please download pathway annotations first to move on! \n",
        "  To upload the .gmt file, click on the folder symbol on the top left. \n",
        "  Using the panel that opens, you can choose 'Upload' to open a window to \n",
        "  browse your local file system.\")\n",
        "} else {\n",
        "  gmt <- gmtPathways(\"c5.bp.v7.1.symbols.gmt\")\n",
        "  print(\"GO biological processes gene set annotations loaded.\")\n",
        "}"
      ],
      "execution_count": 8,
      "outputs": [
        {
          "output_type": "stream",
          "text": [
            "[1] \"GO biological processes gene set annotations loaded.\"\n"
          ],
          "name": "stdout"
        }
      ]
    },
    {
      "cell_type": "markdown",
      "metadata": {
        "id": "4GbDL4q_BCyD",
        "colab_type": "text"
      },
      "source": [
        "## Compute gene set enrichment analysis on eQTS ranking:\n"
      ]
    },
    {
      "cell_type": "code",
      "metadata": {
        "id": "KwyD8yfSBHok",
        "colab_type": "code",
        "colab": {
          "base_uri": "https://localhost:8080/",
          "height": 200
        },
        "outputId": "1ba5addd-6a90-4928-c80e-f81224c44419"
      },
      "source": [
        "fgsea.res <- NULL\n",
        "try({\n",
        "  set.seed(1234)\n",
        "  rank <- eQTS[, \"tvalue\"]\n",
        "  names(rank) <- eQTS[, \"id\"]\n",
        "  fgsea.res <- fgsea(gmt,\n",
        "                     rank,\n",
        "                     nperm=10000,\n",
        "                     minSize = 5,\n",
        "                     maxSize=100)\n",
        "  fgsea.res <- fgsea.res[order(fgsea.res$pval), ]\n",
        "})\n",
        "  \n",
        "if(is.null(fgsea.res)){\n",
        "  print(\"fgsea is not installed or pathway annotations are missing. Let's load the results:\")\n",
        "  fgsea.res <- readRDS(\"https://github.com/heiniglab/symatrial/raw/master/example_data/1k_genomes_fgsea_eQTS.RDS\")\n",
        "}\n",
        "\n",
        "print(\"Top five pathways:\")\n",
        "head(fgsea.res[1:5, -8])"
      ],
      "execution_count": 9,
      "outputs": [
        {
          "output_type": "stream",
          "text": [
            "[1] \"Top five pathways:\"\n"
          ],
          "name": "stdout"
        },
        {
          "output_type": "display_data",
          "data": {
            "text/plain": [
              "  pathway                                                     pval        \n",
              "1 GO_REGULATION_OF_MEGAKARYOCYTE_DIFFERENTIATION              0.0009973404\n",
              "2 GO_MEGAKARYOCYTE_DIFFERENTIATION                            0.0009973404\n",
              "3 GO_CYTOKINE_PRODUCTION                                      0.0012408231\n",
              "4 GO_POSITIVE_REGULATION_OF_CYTOKINE_PRODUCTION               0.0012794541\n",
              "5 GO_NEGATIVE_REGULATION_OF_INTRACELLULAR_SIGNAL_TRANSDUCTION 0.0046130781\n",
              "  padj      ES         NES       nMoreExtreme size\n",
              "1 0.4884316 -0.9102749 -2.069582  2            5  \n",
              "2 0.4884316 -0.9102749 -2.069582  2            5  \n",
              "3 0.4884316  0.4738125  1.607792 11           75  \n",
              "4 0.4884316  0.5201614  1.680610 11           49  \n",
              "5 0.5895384  0.5952123  1.687400 39           22  "
            ],
            "text/latex": "A data.table: 5 × 7\n\\begin{tabular}{lllllll}\n pathway & pval & padj & ES & NES & nMoreExtreme & size\\\\\n <chr> & <dbl> & <dbl> & <dbl> & <dbl> & <dbl> & <int>\\\\\n\\hline\n\t GO\\_REGULATION\\_OF\\_MEGAKARYOCYTE\\_DIFFERENTIATION              & 0.0009973404 & 0.4884316 & -0.9102749 & -2.069582 &  2 &  5\\\\\n\t GO\\_MEGAKARYOCYTE\\_DIFFERENTIATION                            & 0.0009973404 & 0.4884316 & -0.9102749 & -2.069582 &  2 &  5\\\\\n\t GO\\_CYTOKINE\\_PRODUCTION                                      & 0.0012408231 & 0.4884316 &  0.4738125 &  1.607792 & 11 & 75\\\\\n\t GO\\_POSITIVE\\_REGULATION\\_OF\\_CYTOKINE\\_PRODUCTION               & 0.0012794541 & 0.4884316 &  0.5201614 &  1.680610 & 11 & 49\\\\\n\t GO\\_NEGATIVE\\_REGULATION\\_OF\\_INTRACELLULAR\\_SIGNAL\\_TRANSDUCTION & 0.0046130781 & 0.5895384 &  0.5952123 &  1.687400 & 39 & 22\\\\\n\\end{tabular}\n",
            "text/markdown": "\nA data.table: 5 × 7\n\n| pathway &lt;chr&gt; | pval &lt;dbl&gt; | padj &lt;dbl&gt; | ES &lt;dbl&gt; | NES &lt;dbl&gt; | nMoreExtreme &lt;dbl&gt; | size &lt;int&gt; |\n|---|---|---|---|---|---|---|\n| GO_REGULATION_OF_MEGAKARYOCYTE_DIFFERENTIATION              | 0.0009973404 | 0.4884316 | -0.9102749 | -2.069582 |  2 |  5 |\n| GO_MEGAKARYOCYTE_DIFFERENTIATION                            | 0.0009973404 | 0.4884316 | -0.9102749 | -2.069582 |  2 |  5 |\n| GO_CYTOKINE_PRODUCTION                                      | 0.0012408231 | 0.4884316 |  0.4738125 |  1.607792 | 11 | 75 |\n| GO_POSITIVE_REGULATION_OF_CYTOKINE_PRODUCTION               | 0.0012794541 | 0.4884316 |  0.5201614 |  1.680610 | 11 | 49 |\n| GO_NEGATIVE_REGULATION_OF_INTRACELLULAR_SIGNAL_TRANSDUCTION | 0.0046130781 | 0.5895384 |  0.5952123 |  1.687400 | 39 | 22 |\n\n",
            "text/html": [
              "<table>\n",
              "<caption>A data.table: 5 × 7</caption>\n",
              "<thead>\n",
              "\t<tr><th scope=col>pathway</th><th scope=col>pval</th><th scope=col>padj</th><th scope=col>ES</th><th scope=col>NES</th><th scope=col>nMoreExtreme</th><th scope=col>size</th></tr>\n",
              "\t<tr><th scope=col>&lt;chr&gt;</th><th scope=col>&lt;dbl&gt;</th><th scope=col>&lt;dbl&gt;</th><th scope=col>&lt;dbl&gt;</th><th scope=col>&lt;dbl&gt;</th><th scope=col>&lt;dbl&gt;</th><th scope=col>&lt;int&gt;</th></tr>\n",
              "</thead>\n",
              "<tbody>\n",
              "\t<tr><td>GO_REGULATION_OF_MEGAKARYOCYTE_DIFFERENTIATION             </td><td>0.0009973404</td><td>0.4884316</td><td>-0.9102749</td><td>-2.069582</td><td> 2</td><td> 5</td></tr>\n",
              "\t<tr><td>GO_MEGAKARYOCYTE_DIFFERENTIATION                           </td><td>0.0009973404</td><td>0.4884316</td><td>-0.9102749</td><td>-2.069582</td><td> 2</td><td> 5</td></tr>\n",
              "\t<tr><td>GO_CYTOKINE_PRODUCTION                                     </td><td>0.0012408231</td><td>0.4884316</td><td> 0.4738125</td><td> 1.607792</td><td>11</td><td>75</td></tr>\n",
              "\t<tr><td>GO_POSITIVE_REGULATION_OF_CYTOKINE_PRODUCTION              </td><td>0.0012794541</td><td>0.4884316</td><td> 0.5201614</td><td> 1.680610</td><td>11</td><td>49</td></tr>\n",
              "\t<tr><td>GO_NEGATIVE_REGULATION_OF_INTRACELLULAR_SIGNAL_TRANSDUCTION</td><td>0.0046130781</td><td>0.5895384</td><td> 0.5952123</td><td> 1.687400</td><td>39</td><td>22</td></tr>\n",
              "</tbody>\n",
              "</table>\n"
            ]
          },
          "metadata": {
            "tags": []
          }
        }
      ]
    },
    {
      "cell_type": "markdown",
      "metadata": {
        "id": "Qxybeb5bBa1p",
        "colab_type": "text"
      },
      "source": [
        "## Extract the leadingEdge as candidate genes:\n",
        "\n",
        "As this is only an example dataset for demonstration, we choose a significane threshold of P < 0.01. However, for a real analysis we would recommend a much more stringent cutoff based on the adjusted p-value (FDR).\n",
        "\n",
        "For each gene set, the leadingEdge contains the genes that possibly drive the enrichment. We therefore use those genes for significant pathways. To narrow it down further, we check if the same genes are contained in the leadingEdge of multiple pathways.  \n",
        "We take all genes, that appear more than 5 times (8 genes in total) as candidates for the trans eQTL analysis."
      ]
    },
    {
      "cell_type": "code",
      "metadata": {
        "id": "nPDDasH0BbR4",
        "colab_type": "code",
        "colab": {
          "base_uri": "https://localhost:8080/",
          "height": 471
        },
        "outputId": "8babfcca-5ac2-495d-c930-a84236ae2840"
      },
      "source": [
        "if(file.exists(\"c5.bp.v7.1.symbols.gmt\")){\n",
        "  lead <- data.frame(table(unlist( fgsea.res[fgsea.res$pval<0.01, \"leadingEdge\"])))\n",
        "  hist(lead$Freq, breaks = 20,\n",
        "       main = \"Distribution: Frequencies of genes in multiple leading edges:\")\n",
        "  print(\"Let's select the top candidates that appear more than 5 times:\")\n",
        "  candidates <- as.character(lead[lead$Freq>5, \"Var1\"])\n",
        "  print(candidates)\n",
        "}"
      ],
      "execution_count": 10,
      "outputs": [
        {
          "output_type": "stream",
          "text": [
            "[1] \"Let's select the top candidates that appear more than 5 times:\"\n",
            "[1] \"CD226\"  \"CD274\"  \"CD28\"   \"IGHD\"   \"IL10\"   \"IL23R\"  \"RGCC\"   \"TNFSF4\"\n"
          ],
          "name": "stdout"
        },
        {
          "output_type": "display_data",
          "data": {
            "image/png": "[encoded data removed]",
            "text/plain": [
              "Plot with title “Distribution: Frequencies of genes in multiple leading edges:”"
            ]
          },
          "metadata": {
            "tags": [],
            "image/png": {
              "width": 420,
              "height": 420
            },
            "text/plain": {
              "width": 420,
              "height": 420
            }
          }
        }
      ]
    },
    {
      "cell_type": "markdown",
      "metadata": {
        "id": "vmfAwCsT4Mj4",
        "colab_type": "text"
      },
      "source": [
        "## Run trans eQTL analysis\n",
        "\n",
        "Let's run a trans eQTL analysis for those eight genes and the 109 AF GWAS SNPs:\n"
      ]
    },
    {
      "cell_type": "code",
      "metadata": {
        "id": "vs7OGsjw2Vj_",
        "colab_type": "code",
        "colab": {
          "base_uri": "https://localhost:8080/",
          "height": 765
        },
        "outputId": "e856e689-d761-4d79-9441-febaf8449a69"
      },
      "source": [
        "if(file.exists(\"c5.bp.v7.1.symbols.gmt\")){\n",
        "  eQTL <- trans.qtl(prefix = \"/tmp/example\",\n",
        "                    genotype_file_name = \"1k_genomes_AF_snps.txt\",\n",
        "                    expression_file_name = t(df[, candidates]),\n",
        "                    covariates_file_name = df$sex,\n",
        "                    threshold = 1,\n",
        "                    compute.all = T,\n",
        "                    min.pv.by.genesnp = T,\n",
        "                    save.memory = F,\n",
        "                    load.qtls = T)\n",
        "  print(\"Top trans eQTLs:\")\n",
        "  head(eQTL$all$eqtls[order(eQTL$all$eqtls$pvalue), ])\n",
        "}"
      ],
      "execution_count": 11,
      "outputs": [
        {
          "output_type": "stream",
          "text": [
            "Created expression file from matrix for  8  genes by  272  individuals at:\n",
            " /tmp/example_gene.txt \n",
            "Created covariate file for a single gene for 272 individuals at:\n",
            " /tmp/example_covariate.txt \n"
          ],
          "name": "stdout"
        },
        {
          "output_type": "stream",
          "text": [
            "Rows read: 109 done.\n",
            "\n",
            "Rows read: 8 done.\n",
            "\n",
            "Rows read: 1 done.\n",
            "\n",
            "Processing covariates\n",
            "\n",
            "Task finished in 0.005 seconds\n",
            "\n",
            "Processing gene expression data (imputation, residualization)\n",
            "\n",
            "Task finished in 0.011 seconds\n",
            "\n",
            "Creating output file(s)\n",
            "\n",
            "Task finished in 0.016 seconds\n",
            "\n",
            "Performing eQTL analysis\n",
            "\n",
            "100.00% done, 872 eQTLs\n",
            "\n",
            "Task finished in 0.025 seconds\n",
            "\n",
            "\n",
            "\n"
          ],
          "name": "stderr"
        },
        {
          "output_type": "stream",
          "text": [
            "Analysis of  872 QTLs done in:  0.044  seconds \n",
            "Detected eQTLs:  872 \n",
            "[1] \"Top trans eQTLs:\"\n"
          ],
          "name": "stdout"
        },
        {
          "output_type": "display_data",
          "data": {
            "text/plain": [
              "  snps       gene statistic pvalue       FDR       beta      \n",
              "1 rs17079881 IL10 -3.903975 0.0001196941 0.1043733 -0.2317193\n",
              "2 rs77020228 IGHD -3.591708 0.0003904660 0.1415209 -0.2915202\n",
              "3 rs332388   CD28 -3.522075 0.0005028552 0.1415209 -0.2564119\n",
              "4 rs1044258  IL10  3.450644 0.0006491785 0.1415209  0.1561586\n",
              "5 rs7526131  RGCC  3.312348 0.0010519059 0.1834524  0.1290141\n",
              "6 rs17677363 IGHD  3.224628 0.0014171063 0.2059528  0.3377210"
            ],
            "text/latex": "A data.frame: 6 × 6\n\\begin{tabular}{r|llllll}\n  & snps & gene & statistic & pvalue & FDR & beta\\\\\n  & <fct> & <fct> & <dbl> & <dbl> & <dbl> & <dbl>\\\\\n\\hline\n\t1 & rs17079881 & IL10 & -3.903975 & 0.0001196941 & 0.1043733 & -0.2317193\\\\\n\t2 & rs77020228 & IGHD & -3.591708 & 0.0003904660 & 0.1415209 & -0.2915202\\\\\n\t3 & rs332388   & CD28 & -3.522075 & 0.0005028552 & 0.1415209 & -0.2564119\\\\\n\t4 & rs1044258  & IL10 &  3.450644 & 0.0006491785 & 0.1415209 &  0.1561586\\\\\n\t5 & rs7526131  & RGCC &  3.312348 & 0.0010519059 & 0.1834524 &  0.1290141\\\\\n\t6 & rs17677363 & IGHD &  3.224628 & 0.0014171063 & 0.2059528 &  0.3377210\\\\\n\\end{tabular}\n",
            "text/markdown": "\nA data.frame: 6 × 6\n\n| <!--/--> | snps &lt;fct&gt; | gene &lt;fct&gt; | statistic &lt;dbl&gt; | pvalue &lt;dbl&gt; | FDR &lt;dbl&gt; | beta &lt;dbl&gt; |\n|---|---|---|---|---|---|---|\n| 1 | rs17079881 | IL10 | -3.903975 | 0.0001196941 | 0.1043733 | -0.2317193 |\n| 2 | rs77020228 | IGHD | -3.591708 | 0.0003904660 | 0.1415209 | -0.2915202 |\n| 3 | rs332388   | CD28 | -3.522075 | 0.0005028552 | 0.1415209 | -0.2564119 |\n| 4 | rs1044258  | IL10 |  3.450644 | 0.0006491785 | 0.1415209 |  0.1561586 |\n| 5 | rs7526131  | RGCC |  3.312348 | 0.0010519059 | 0.1834524 |  0.1290141 |\n| 6 | rs17677363 | IGHD |  3.224628 | 0.0014171063 | 0.2059528 |  0.3377210 |\n\n",
            "text/html": [
              "<table>\n",
              "<caption>A data.frame: 6 × 6</caption>\n",
              "<thead>\n",
              "\t<tr><th></th><th scope=col>snps</th><th scope=col>gene</th><th scope=col>statistic</th><th scope=col>pvalue</th><th scope=col>FDR</th><th scope=col>beta</th></tr>\n",
              "\t<tr><th></th><th scope=col>&lt;fct&gt;</th><th scope=col>&lt;fct&gt;</th><th scope=col>&lt;dbl&gt;</th><th scope=col>&lt;dbl&gt;</th><th scope=col>&lt;dbl&gt;</th><th scope=col>&lt;dbl&gt;</th></tr>\n",
              "</thead>\n",
              "<tbody>\n",
              "\t<tr><th scope=row>1</th><td>rs17079881</td><td>IL10</td><td>-3.903975</td><td>0.0001196941</td><td>0.1043733</td><td>-0.2317193</td></tr>\n",
              "\t<tr><th scope=row>2</th><td>rs77020228</td><td>IGHD</td><td>-3.591708</td><td>0.0003904660</td><td>0.1415209</td><td>-0.2915202</td></tr>\n",
              "\t<tr><th scope=row>3</th><td>rs332388  </td><td>CD28</td><td>-3.522075</td><td>0.0005028552</td><td>0.1415209</td><td>-0.2564119</td></tr>\n",
              "\t<tr><th scope=row>4</th><td>rs1044258 </td><td>IL10</td><td> 3.450644</td><td>0.0006491785</td><td>0.1415209</td><td> 0.1561586</td></tr>\n",
              "\t<tr><th scope=row>5</th><td>rs7526131 </td><td>RGCC</td><td> 3.312348</td><td>0.0010519059</td><td>0.1834524</td><td> 0.1290141</td></tr>\n",
              "\t<tr><th scope=row>6</th><td>rs17677363</td><td>IGHD</td><td> 3.224628</td><td>0.0014171063</td><td>0.2059528</td><td> 0.3377210</td></tr>\n",
              "</tbody>\n",
              "</table>\n"
            ]
          },
          "metadata": {
            "tags": []
          }
        }
      ]
    }
  ]
}