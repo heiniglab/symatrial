{
  "nbformat": 4,
  "nbformat_minor": 0,
  "metadata": {
    "kernelspec": {
      "display_name": "R",
      "language": "R",
      "name": "ir"
    },
    "language_info": {
      "codemirror_mode": "r",
      "file_extension": ".r",
      "mimetype": "text/x-r-source",
      "name": "R",
      "pygments_lexer": "r",
      "version": "3.3.1"
    },
    "colab": {
      "name": "PRSenrichQTL_tutorial.ipynb",
      "provenance": [],
      "collapsed_sections": [],
      "toc_visible": true
    }
  },
  "cells": [
    {
      "cell_type": "markdown",
      "metadata": {
        "id": "7oOMohGzCXft",
        "colab_type": "text"
      },
      "source": [
        "# PRS-preselection-based trans QTL analysis\n",
        "\n",
        "# Summary\n",
        "\n",
        "This is a short summary of our polygenic risk score (PRS) based pathway enrichment approach to preselect candidate genes for trans QTL analyses.\n",
        "\n",
        "You can find a preprint version of the manuscript  \n",
        "Ines Assum & Julia Krause et al., Tissue-specific multiOMICs analysis of atrial fibrillation, *bioRxiv* (2020)  \n",
        "here:\n",
        "https://doi.org/10.1101/2020.04.06.021527\n",
        "\n",
        "We address a key hypothesis about the existence of core genes as postulated in the omnigenic model by [Liu et al.](https://doi.org/10.1016/j.cell.2019.04.014), *Cell* (2019). Core genes are central genes with trans-associations to GWAS loci, whose expression levels directly affect a disease phenotype. Here we sought to identify candidate core genes for AF to understand the contribution of trans-genetic effects in the pathology of AF. To prioritize genes satisfying the properties predicted by the omnigenic model, we evaluated the accumulation of trans-effects, their relevance in gene regulatory networks, and the disease association by the following strategy:\n",
        "\n",
        "\n",
        "i) Evaluate cumulated trans-effects of disease-associated variants on expression by ranking genes based on their correlation of mRNA and protein abundance with a PRS (eQTS) as proposed by [Võsa et al.](https://doi.org/10.1101/447367), *bioRxiv* (2018)\n",
        "\n",
        "ii) Identify genes sharing molecular function and representing biological networks that propagate genetic trans-effects to core genes by pathway enrichment analysis (GSEA) on the eQTS rankings. Genes driving the enrichment of multiple gene sets were selected as core gene candidates.\n",
        "\n",
        "iii) Establish the link between the core gene candidates and the disease based on a significant trans eQTL GWAS hit.\n",
        "\n",
        "# Example\n",
        "\n",
        "## Requirements\n",
        "\n",
        "This tutorial uses the following packages:\n",
        "\n",
        "* [fgsea](https://bioconductor.org/packages/release/bioc/html/fgsea.html)\n",
        "* [MatrixEQTL](https://github.com/andreyshabalin/MatrixEQTL)\n",
        "* [eQTLpipeline](https://github.com/matthiasheinig/eQTLpipeline)\n",
        "\n",
        "and data\n",
        "\n",
        "* [1k_genomes_PRS_expr.tsv](https://github.com/heiniglab/symatrial/blob/master/example_data/1k_genomes_PRS_expr.tsv)\n",
        "* [1k_genomes_AF_snps.txt](https://github.com/heiniglab/symatrial/blob/master/example_data/1k_genomes_AF_snps.txt)\n",
        "* [GO bp .gmt file](https://www.gsea-msigdb.org/gsea/msigdb/download_file.jsp?filePath=/msigdb/release/7.1/c5.bp.v7.1.symbols.gmt).\n",
        "\n",
        "Packages are installed in the first code chunk (running it might take up to 10 minutes). You can skip the first code chunk and only load the precomputed results, if you are in a hurry.\n",
        "\n",
        "All necessary data is downloaded automatically, you only need to download gene set annotations for the GO biological processes ([GO bp .gmt file](https://www.gsea-msigdb.org/gsea/msigdb/download_file.jsp?filePath=/msigdb/release/7.1/c5.bp.v7.1.symbols.gmt)).\n",
        "To temporarily upload files to this runtime, click on the folder symbol on the top left. Using the panel that opens, you can choose \"Upload\" to open a window to browse your local file system."
      ]
    },
    {
      "cell_type": "code",
      "metadata": {
        "id": "0dXVDkyWCXfy",
        "colab_type": "code",
        "colab": {}
      },
      "source": [
        "#Install necessary libraries\n",
        "install.packages(c(\"devtools\",\"RColorBrewer\"), dependencies = T, clean = T)\n",
        "BiocManager::install(\"fgsea\", dependencies = T, clean = T)\n",
        "\n",
        "library(devtools)\n",
        "devtools::install_github(\"andreyshabalin/MatrixEQTL\", force=T)\n",
        "devtools::install_github(\"matthiasheinig/eQTLpipeline\", force=T)\n",
        "\n",
        "#Load libraries\n",
        "library(fgsea)\n",
        "library(MatrixEQTL)\n",
        "library(eQTLpipeline)"
      ],
      "execution_count": 0,
      "outputs": []
    },
    {
      "cell_type": "code",
      "metadata": {
        "id": "XdEDykoIuzna",
        "colab_type": "code",
        "outputId": "113e2534-412d-4012-ad7b-7a99276f84f2",
        "colab": {
          "base_uri": "https://localhost:8080/",
          "height": 833
        }
      },
      "source": [
        "sessionInfo()"
      ],
      "execution_count": 0,
      "outputs": [
        {
          "output_type": "display_data",
          "data": {
            "text/plain": [
              "R version 3.6.3 (2020-02-29)\n",
              "Platform: x86_64-pc-linux-gnu (64-bit)\n",
              "Running under: Ubuntu 18.04.3 LTS\n",
              "\n",
              "Matrix products: default\n",
              "BLAS:   /usr/lib/x86_64-linux-gnu/openblas/libblas.so.3\n",
              "LAPACK: /usr/lib/x86_64-linux-gnu/libopenblasp-r0.2.20.so\n",
              "\n",
              "locale:\n",
              " [1] LC_CTYPE=en_US.UTF-8       LC_NUMERIC=C              \n",
              " [3] LC_TIME=en_US.UTF-8        LC_COLLATE=en_US.UTF-8    \n",
              " [5] LC_MONETARY=en_US.UTF-8    LC_MESSAGES=en_US.UTF-8   \n",
              " [7] LC_PAPER=en_US.UTF-8       LC_NAME=C                 \n",
              " [9] LC_ADDRESS=C               LC_TELEPHONE=C            \n",
              "[11] LC_MEASUREMENT=en_US.UTF-8 LC_IDENTIFICATION=C       \n",
              "\n",
              "attached base packages:\n",
              "[1] stats     graphics  grDevices utils     datasets  methods   base     \n",
              "\n",
              "other attached packages:\n",
              "[1] eQTLpipeline_0.1  BatchJobs_1.8     BBmisc_1.11       data.table_1.12.8\n",
              "[5] MatrixEQTL_2.3    fgsea_1.12.0      Rcpp_1.0.4.6      devtools_2.3.0   \n",
              "[9] usethis_1.6.1    \n",
              "\n",
              "loaded via a namespace (and not attached):\n",
              " [1] lattice_0.20-41     prettyunits_1.1.1   ps_1.3.3           \n",
              " [4] assertthat_0.2.1    rprojroot_1.2       digest_0.6.25      \n",
              " [7] IRdisplay_0.7.0     R6_2.4.1            repr_1.1.0         \n",
              "[10] backports_1.1.6     RSQLite_2.2.0       evaluate_0.14      \n",
              "[13] ggplot2_3.3.0       pillar_1.4.4        rlang_0.4.6        \n",
              "[16] curl_4.3            uuid_0.1-4          blob_1.2.1         \n",
              "[19] callr_3.4.3         Matrix_1.2-18       checkmate_2.0.0    \n",
              "[22] desc_1.2.0          BiocParallel_1.20.1 bit_1.1-15.2       \n",
              "[25] munsell_0.5.0       sendmailR_1.2-1     compiler_3.6.3     \n",
              "[28] pkgconfig_2.0.3     base64enc_0.1-3     pkgbuild_1.0.8     \n",
              "[31] htmltools_0.4.0     tidyselect_1.1.0    tibble_3.0.1       \n",
              "[34] gridExtra_2.3       fansi_0.4.1         crayon_1.3.4       \n",
              "[37] dplyr_0.8.5         withr_2.2.0         grid_3.6.3         \n",
              "[40] jsonlite_1.6.1      gtable_0.3.0        lifecycle_0.2.0    \n",
              "[43] DBI_1.1.0           magrittr_1.5        scales_1.1.1       \n",
              "[46] stringi_1.4.6       cli_2.0.2           fs_1.4.1           \n",
              "[49] remotes_2.1.1       testthat_2.3.2      brew_1.0-6         \n",
              "[52] ellipsis_0.3.0      vctrs_0.3.0         fastmatch_1.1-0    \n",
              "[55] IRkernel_1.1        tools_3.6.3         bit64_0.9-7        \n",
              "[58] glue_1.4.0          purrr_0.3.4         processx_3.4.1     \n",
              "[61] pkgload_1.0.2       parallel_3.6.3      colorspace_1.4-1   \n",
              "[64] BiocManager_1.30.10 sessioninfo_1.1.1   memoise_1.1.0      \n",
              "[67] pbdZMQ_0.3-3       "
            ]
          },
          "metadata": {
            "tags": []
          }
        }
      ]
    },
    {
      "cell_type": "markdown",
      "metadata": {
        "id": "NdURZ8SMIPDQ",
        "colab_type": "text"
      },
      "source": [
        "## Loading data\n",
        "\n",
        "In the following, we show the general procedure based on public data (272 individuals from the 1000 genomes LCL data).  \n",
        "We supply a small test dataset with pre-computed PRS values for AF and CAD as well as gene expression for 830 genes (`1k_genomes_PRS_expr.tsv`). Additionally, genotypes for 109 pruned AF SNPs for those individuals are supplied (`1k_genomes_AF_snps.txt`) in MatrixEQTL format."
      ]
    },
    {
      "cell_type": "code",
      "metadata": {
        "id": "27GnAJsuIWaz",
        "colab_type": "code",
        "outputId": "e230c3f4-3f08-4f23-db7c-8a03856b333d",
        "colab": {
          "base_uri": "https://localhost:8080/",
          "height": 221
        }
      },
      "source": [
        "df <- read.csv(file = \"https://github.com/heiniglab/symatrial/raw/master/example_data/1k_genomes_PRS_expr.tsv\",\n",
        "               sep = \"\\t\", h = T, stringsAsFactors = F)\n",
        "print.data.frame(df[1:5, 1:10],\n",
        "                 row.names = F, digits = 3)"
      ],
      "execution_count": 0,
      "outputs": [
        {
          "output_type": "stream",
          "text": [
            "      id PRS.AF PRS.AF.percentile PRS.CAD PRS.CAD.percentile sex population\n",
            " HG00096   32.5             0.876    18.0              0.104   1        GBR\n",
            " HG00097   32.5             0.837    18.3              0.986   2        GBR\n",
            " HG00099   32.4             0.563    18.2              0.790   2        GBR\n",
            " HG00100   32.4             0.604    18.0              0.173   2        GBR\n",
            " HG00101   32.3             0.331    18.1              0.544   1        GBR\n",
            "  BAD DBNDD1 CD38\n",
            " 3.74   4.57 4.22\n",
            " 3.50   3.33 4.16\n",
            " 2.48   4.60 3.99\n",
            " 1.95   3.22 4.39\n",
            " 3.50   3.26 4.88\n"
          ],
          "name": "stdout"
        }
      ]
    },
    {
      "cell_type": "markdown",
      "metadata": {
        "id": "LWxZ80Ey_-yH",
        "colab_type": "text"
      },
      "source": [
        "## eQTS ranking\n",
        "First step is to calculate the eQTS rankings:"
      ]
    },
    {
      "cell_type": "code",
      "metadata": {
        "id": "Qc83wlqZAAew",
        "colab_type": "code",
        "outputId": "2543eefe-1d61-4439-d14c-78910bc750af",
        "colab": {
          "base_uri": "https://localhost:8080/",
          "height": 272
        }
      },
      "source": [
        "eQTS <- data.frame(matrix(nrow = 830, ncol = 5),\n",
        "                   stringsAsFactors = F,\n",
        "                   row.names = colnames(df)[-c(1:7)])\n",
        "colnames(eQTS) <- c(\"id\", \"Estimate\", \"StdError\", \"tvalue\", \"pvalueT\")\n",
        "data <- df[, c(\"id\", \"PRS.AF\", \"PRS.AF.percentile\",\n",
        "               \"PRS.CAD\", \"PRS.CAD.percentile\",\n",
        "               \"sex\", \"population\")]\n",
        "for (i in 8:(dim(df)[2])){\n",
        "    id <- colnames(df)[i]\n",
        "    data$expr <- df[, id]\n",
        "    lmres <- lm(expr ~ sex + PRS.AF.percentile,\n",
        "                data = data)\n",
        "    eQTS[id, ] <- c(id,\n",
        "                    summary(lmres)$coefficients[\"PRS.AF.percentile\", ])\n",
        "    if(i %% 100 == 0) print(paste0(\"Gene \", i-7, \" / \", dim(df)[2]-7, \" done\"))\n",
        "}\n",
        "eQTS[, -1] <- apply(eQTS[, -1], 2, as.numeric)\n",
        "eQTS <- eQTS[order(eQTS$pvalueT), ]\n",
        "\n",
        "print(\"Top five associated genes:\")\n",
        "print.data.frame(eQTS[1:5, ],\n",
        "                 row.names = F, digits = 3)"
      ],
      "execution_count": 0,
      "outputs": [
        {
          "output_type": "stream",
          "text": [
            "[1] \"Gene 93 / 830 done\"\n",
            "[1] \"Gene 193 / 830 done\"\n",
            "[1] \"Gene 293 / 830 done\"\n",
            "[1] \"Gene 393 / 830 done\"\n",
            "[1] \"Gene 493 / 830 done\"\n",
            "[1] \"Gene 593 / 830 done\"\n",
            "[1] \"Gene 693 / 830 done\"\n",
            "[1] \"Gene 793 / 830 done\"\n",
            "[1] \"Top five associated genes:\"\n",
            "           id Estimate StdError tvalue  pvalueT\n",
            " NAALADL2.AS2    1.019   0.1696   6.01 6.03e-09\n",
            "      BCL2L10    0.458   0.0968   4.73 3.64e-06\n",
            "         CLMN    0.465   0.1052   4.42 1.42e-05\n",
            "   AL606807.1    0.474   0.1080   4.39 1.65e-05\n",
            "       KIF21A    0.383   0.0933   4.11 5.31e-05\n"
          ],
          "name": "stdout"
        }
      ]
    },
    {
      "cell_type": "markdown",
      "metadata": {
        "id": "kX-g6x-9ALKO",
        "colab_type": "text"
      },
      "source": [
        "## Load pathway annotations\n",
        "\n",
        "As mentioned before, please download GO biological processes gene sets first, [GO bp .gmt file](https://www.gsea-msigdb.org/gsea/msigdb/download_file.jsp?filePath=/msigdb/release/7.1/c5.bp.v7.1.symbols.gmt),\n",
        "then import them into R using the fgsea package."
      ]
    },
    {
      "cell_type": "code",
      "metadata": {
        "id": "H7ihUaWxAW7M",
        "colab_type": "code",
        "outputId": "cf30a6d0-f820-4ed0-ba99-4b76f140fe37",
        "colab": {
          "base_uri": "https://localhost:8080/",
          "height": 266
        }
      },
      "source": [
        "if(!file.exists(\"c5.bp.v7.1.symbols.gmt\")){\n",
        "  cat(\"To actually run the tutorial, please install the package 'fgsea' and \n",
        "  download pathway annotations to move on! \n",
        "  To upload the .gmt file, click on the folder symbol on the top left. \n",
        "  Using the panel that opens, you can choose 'Upload' to open a window to \n",
        "  browse your local file system.\")\n",
        "} else {\n",
        "  try({\n",
        "    gmt <- gmtPathways(\"c5.bp.v7.1.symbols.gmt\")\n",
        "    print(\"GO biological processes gene set annotations loaded.\")\n",
        "    head(gmt, 2)\n",
        "  }, print(\"Loading gene set annotations not successful. Library 'fgsea' probably not installed.\"))\n",
        "}"
      ],
      "execution_count": 0,
      "outputs": [
        {
          "output_type": "stream",
          "text": [
            "[1] \"GO biological processes gene set annotations loaded.\"\n"
          ],
          "name": "stdout"
        },
        {
          "output_type": "display_data",
          "data": {
            "text/plain": [
              "$GO_POSITIVE_REGULATION_OF_VIRAL_TRANSCRIPTION\n",
              " [1] \"CDK9\"    \"CHD1\"    \"DHX9\"    \"EP300\"   \"SNW1\"    \"RRP1B\"   \"NELFB\"  \n",
              " [8] \"GTF2B\"   \"GTF2F1\"  \"GTF2F2\"  \"MDFIC\"   \"HPN\"     \"JUN\"     \"LEF1\"   \n",
              "[15] \"ZNF639\"  \"NELFCD\"  \"RSF1\"    \"POLR2A\"  \"POLR2B\"  \"POLR2C\"  \"POLR2D\" \n",
              "[22] \"POLR2E\"  \"POLR2F\"  \"POLR2G\"  \"POLR2H\"  \"POLR2I\"  \"POLR2J\"  \"POLR2K\" \n",
              "[29] \"POLR2L\"  \"NUCKS1\"  \"SMARCA4\" \"SMARCB1\" \"SP1\"     \"SUPT4H1\" \"SUPT5H\" \n",
              "[36] \"TAF11\"   \"TFAP4\"   \"NELFA\"   \"NELFE\"   \"CCNT1\"   \"CTDP1\"  \n",
              "\n",
              "$GO_CARDIAC_CHAMBER_DEVELOPMENT\n",
              "  [1] \"ZMPSTE24\" \"UBE4B\"    \"CITED2\"   \"TAB1\"     \"SEMA3C\"   \"FRS2\"    \n",
              "  [7] \"PPP1R13L\" \"ADAMTS6\"  \"XIRP2\"    \"COL11A1\"  \"CPE\"      \"CCM2L\"   \n",
              " [13] \"NKX2-5\"   \"TMEM65\"   \"ZFPM1\"    \"AP2B1\"    \"DNM2\"     \"JAG1\"    \n",
              " [19] \"DSP\"      \"DAND5\"    \"ENG\"      \"FGF8\"     \"FGFR2\"    \"FHL2\"    \n",
              " [25] \"FKBP1A\"   \"FOXF1\"    \"FOXC1\"    \"FOXC2\"    \"PLXND1\"   \"ZFPM2\"   \n",
              " [31] \"HEY1\"     \"HEY2\"     \"FZD2\"     \"HECTD1\"   \"GATA3\"    \"GATA4\"   \n",
              " [37] \"GATA6\"    \"HEYL\"     \"GJA5\"     \"NPHP3\"    \"BMP10\"    \"ANK2\"    \n",
              " [43] \"GSK3A\"    \"NRG1\"     \"HIF1A\"    \"HES1\"     \"NDST1\"    \"ID2\"     \n",
              " [49] \"CCN1\"     \"RBPJ\"     \"ISL1\"     \"KCNK2\"    \"LRP2\"     \"LTBP1\"   \n",
              " [55] \"MIR1-1\"   \"MIR1-2\"   \"MIR17HG\"  \"SMAD4\"    \"SMAD6\"    \"SMAD7\"   \n",
              " [61] \"MDM2\"     \"MDM4\"     \"MEF2C\"    \"MSX2\"     \"MYBPC3\"   \"MYH6\"    \n",
              " [67] \"MYH7\"     \"MYH10\"    \"MYL2\"     \"MYL3\"     \"NOS3\"     \"NOTCH1\"  \n",
              " [73] \"NOTCH2\"   \"NPY2R\"    \"NPY5R\"    \"PCSK5\"    \"PDE2A\"    \"SUFU\"    \n",
              " [79] \"PKP2\"     \"FGFRL1\"   \"DLL4\"     \"POU4F1\"   \"MED1\"     \"MKS1\"    \n",
              " [85] \"CHD7\"     \"PARVA\"    \"MESP1\"    \"PROX1\"    \"TBX20\"    \"SALL4\"   \n",
              " [91] \"ADGRG6\"   \"VANGL2\"   \"HEG1\"     \"PTK7\"     \"OVOL2\"    \"RARA\"    \n",
              " [97] \"RARB\"     \"RBP4\"     \"SAV1\"     \"ROBO1\"    \"ROBO2\"    \"RXRA\"    \n",
              "[103] \"RYR2\"     \"SALL1\"    \"SCN5A\"    \"PRDM1\"    \"STRA6\"    \"SFRP2\"   \n",
              "[109] \"SHOX2\"    \"RBM15\"    \"BMP4\"     \"CPLANE1\"  \"BMP5\"     \"BMP7\"    \n",
              "[115] \"BMPR1A\"   \"SLIT3\"    \"BMPR2\"    \"SMARCD3\"  \"SMO\"      \"SOS1\"    \n",
              "[121] \"SOX4\"     \"SOX11\"    \"SRF\"      \"TBX1\"     \"TBX2\"     \"TBX5\"    \n",
              "[127] \"TBX3\"     \"TEK\"      \"TGFB1\"    \"TGFB2\"    \"TGFBR1\"   \"TGFBR2\"  \n",
              "[133] \"TGFBR3\"   \"TNNC1\"    \"TNNI1\"    \"TNNI3\"    \"TNNT2\"    \"TP53\"    \n",
              "[139] \"TPM1\"     \"NSD2\"     \"WNT2\"     \"WNT5A\"    \"WNT11\"    \"ZBTB14\"  \n",
              "[145] \"LUZP1\"    \"PAX8\"     \"CRELD1\"   \"PTCD2\"    \"GRHL2\"    \"GREB1L\"  \n",
              "[151] \"NPRL3\"    \"ARID1A\"   \"FZD1\"     \"DCTN5\"    \"LMO4\"     \"CAV3\"    \n",
              "[157] \"DNAH11\"   \"NRP2\"     \"NRP1\"     \"FOXH1\"    \"ACVR1\"    \"NOG\"     \n",
              "[163] \"DHRS3\"    \"TRIP11\"   \"SLIT2\"    \"MYOCD\"    \"HAND1\"    \"HAND2\"   \n",
              "[169] \"ADAMTS1\"  \"MATR3\"    \"SNX17\"    \"MAML1\"   \n"
            ],
            "text/latex": "\\begin{description}\n\\item[\\$GO\\_POSITIVE\\_REGULATION\\_OF\\_VIRAL\\_TRANSCRIPTION] \\begin{enumerate*}\n\\item 'CDK9'\n\\item 'CHD1'\n\\item 'DHX9'\n\\item 'EP300'\n\\item 'SNW1'\n\\item 'RRP1B'\n\\item 'NELFB'\n\\item 'GTF2B'\n\\item 'GTF2F1'\n\\item 'GTF2F2'\n\\item 'MDFIC'\n\\item 'HPN'\n\\item 'JUN'\n\\item 'LEF1'\n\\item 'ZNF639'\n\\item 'NELFCD'\n\\item 'RSF1'\n\\item 'POLR2A'\n\\item 'POLR2B'\n\\item 'POLR2C'\n\\item 'POLR2D'\n\\item 'POLR2E'\n\\item 'POLR2F'\n\\item 'POLR2G'\n\\item 'POLR2H'\n\\item 'POLR2I'\n\\item 'POLR2J'\n\\item 'POLR2K'\n\\item 'POLR2L'\n\\item 'NUCKS1'\n\\item 'SMARCA4'\n\\item 'SMARCB1'\n\\item 'SP1'\n\\item 'SUPT4H1'\n\\item 'SUPT5H'\n\\item 'TAF11'\n\\item 'TFAP4'\n\\item 'NELFA'\n\\item 'NELFE'\n\\item 'CCNT1'\n\\item 'CTDP1'\n\\end{enumerate*}\n\n\\item[\\$GO\\_CARDIAC\\_CHAMBER\\_DEVELOPMENT] \\begin{enumerate*}\n\\item 'ZMPSTE24'\n\\item 'UBE4B'\n\\item 'CITED2'\n\\item 'TAB1'\n\\item 'SEMA3C'\n\\item 'FRS2'\n\\item 'PPP1R13L'\n\\item 'ADAMTS6'\n\\item 'XIRP2'\n\\item 'COL11A1'\n\\item 'CPE'\n\\item 'CCM2L'\n\\item 'NKX2-5'\n\\item 'TMEM65'\n\\item 'ZFPM1'\n\\item 'AP2B1'\n\\item 'DNM2'\n\\item 'JAG1'\n\\item 'DSP'\n\\item 'DAND5'\n\\item 'ENG'\n\\item 'FGF8'\n\\item 'FGFR2'\n\\item 'FHL2'\n\\item 'FKBP1A'\n\\item 'FOXF1'\n\\item 'FOXC1'\n\\item 'FOXC2'\n\\item 'PLXND1'\n\\item 'ZFPM2'\n\\item 'HEY1'\n\\item 'HEY2'\n\\item 'FZD2'\n\\item 'HECTD1'\n\\item 'GATA3'\n\\item 'GATA4'\n\\item 'GATA6'\n\\item 'HEYL'\n\\item 'GJA5'\n\\item 'NPHP3'\n\\item 'BMP10'\n\\item 'ANK2'\n\\item 'GSK3A'\n\\item 'NRG1'\n\\item 'HIF1A'\n\\item 'HES1'\n\\item 'NDST1'\n\\item 'ID2'\n\\item 'CCN1'\n\\item 'RBPJ'\n\\item 'ISL1'\n\\item 'KCNK2'\n\\item 'LRP2'\n\\item 'LTBP1'\n\\item 'MIR1-1'\n\\item 'MIR1-2'\n\\item 'MIR17HG'\n\\item 'SMAD4'\n\\item 'SMAD6'\n\\item 'SMAD7'\n\\item 'MDM2'\n\\item 'MDM4'\n\\item 'MEF2C'\n\\item 'MSX2'\n\\item 'MYBPC3'\n\\item 'MYH6'\n\\item 'MYH7'\n\\item 'MYH10'\n\\item 'MYL2'\n\\item 'MYL3'\n\\item 'NOS3'\n\\item 'NOTCH1'\n\\item 'NOTCH2'\n\\item 'NPY2R'\n\\item 'NPY5R'\n\\item 'PCSK5'\n\\item 'PDE2A'\n\\item 'SUFU'\n\\item 'PKP2'\n\\item 'FGFRL1'\n\\item 'DLL4'\n\\item 'POU4F1'\n\\item 'MED1'\n\\item 'MKS1'\n\\item 'CHD7'\n\\item 'PARVA'\n\\item 'MESP1'\n\\item 'PROX1'\n\\item 'TBX20'\n\\item 'SALL4'\n\\item 'ADGRG6'\n\\item 'VANGL2'\n\\item 'HEG1'\n\\item 'PTK7'\n\\item 'OVOL2'\n\\item 'RARA'\n\\item 'RARB'\n\\item 'RBP4'\n\\item 'SAV1'\n\\item 'ROBO1'\n\\item 'ROBO2'\n\\item 'RXRA'\n\\item 'RYR2'\n\\item 'SALL1'\n\\item 'SCN5A'\n\\item 'PRDM1'\n\\item 'STRA6'\n\\item 'SFRP2'\n\\item 'SHOX2'\n\\item 'RBM15'\n\\item 'BMP4'\n\\item 'CPLANE1'\n\\item 'BMP5'\n\\item 'BMP7'\n\\item 'BMPR1A'\n\\item 'SLIT3'\n\\item 'BMPR2'\n\\item 'SMARCD3'\n\\item 'SMO'\n\\item 'SOS1'\n\\item 'SOX4'\n\\item 'SOX11'\n\\item 'SRF'\n\\item 'TBX1'\n\\item 'TBX2'\n\\item 'TBX5'\n\\item 'TBX3'\n\\item 'TEK'\n\\item 'TGFB1'\n\\item 'TGFB2'\n\\item 'TGFBR1'\n\\item 'TGFBR2'\n\\item 'TGFBR3'\n\\item 'TNNC1'\n\\item 'TNNI1'\n\\item 'TNNI3'\n\\item 'TNNT2'\n\\item 'TP53'\n\\item 'TPM1'\n\\item 'NSD2'\n\\item 'WNT2'\n\\item 'WNT5A'\n\\item 'WNT11'\n\\item 'ZBTB14'\n\\item 'LUZP1'\n\\item 'PAX8'\n\\item 'CRELD1'\n\\item 'PTCD2'\n\\item 'GRHL2'\n\\item 'GREB1L'\n\\item 'NPRL3'\n\\item 'ARID1A'\n\\item 'FZD1'\n\\item 'DCTN5'\n\\item 'LMO4'\n\\item 'CAV3'\n\\item 'DNAH11'\n\\item 'NRP2'\n\\item 'NRP1'\n\\item 'FOXH1'\n\\item 'ACVR1'\n\\item 'NOG'\n\\item 'DHRS3'\n\\item 'TRIP11'\n\\item 'SLIT2'\n\\item 'MYOCD'\n\\item 'HAND1'\n\\item 'HAND2'\n\\item 'ADAMTS1'\n\\item 'MATR3'\n\\item 'SNX17'\n\\item 'MAML1'\n\\end{enumerate*}\n\n\\end{description}\n",
            "text/markdown": "$GO_POSITIVE_REGULATION_OF_VIRAL_TRANSCRIPTION\n:   1. 'CDK9'\n2. 'CHD1'\n3. 'DHX9'\n4. 'EP300'\n5. 'SNW1'\n6. 'RRP1B'\n7. 'NELFB'\n8. 'GTF2B'\n9. 'GTF2F1'\n10. 'GTF2F2'\n11. 'MDFIC'\n12. 'HPN'\n13. 'JUN'\n14. 'LEF1'\n15. 'ZNF639'\n16. 'NELFCD'\n17. 'RSF1'\n18. 'POLR2A'\n19. 'POLR2B'\n20. 'POLR2C'\n21. 'POLR2D'\n22. 'POLR2E'\n23. 'POLR2F'\n24. 'POLR2G'\n25. 'POLR2H'\n26. 'POLR2I'\n27. 'POLR2J'\n28. 'POLR2K'\n29. 'POLR2L'\n30. 'NUCKS1'\n31. 'SMARCA4'\n32. 'SMARCB1'\n33. 'SP1'\n34. 'SUPT4H1'\n35. 'SUPT5H'\n36. 'TAF11'\n37. 'TFAP4'\n38. 'NELFA'\n39. 'NELFE'\n40. 'CCNT1'\n41. 'CTDP1'\n\n\n\n$GO_CARDIAC_CHAMBER_DEVELOPMENT\n:   1. 'ZMPSTE24'\n2. 'UBE4B'\n3. 'CITED2'\n4. 'TAB1'\n5. 'SEMA3C'\n6. 'FRS2'\n7. 'PPP1R13L'\n8. 'ADAMTS6'\n9. 'XIRP2'\n10. 'COL11A1'\n11. 'CPE'\n12. 'CCM2L'\n13. 'NKX2-5'\n14. 'TMEM65'\n15. 'ZFPM1'\n16. 'AP2B1'\n17. 'DNM2'\n18. 'JAG1'\n19. 'DSP'\n20. 'DAND5'\n21. 'ENG'\n22. 'FGF8'\n23. 'FGFR2'\n24. 'FHL2'\n25. 'FKBP1A'\n26. 'FOXF1'\n27. 'FOXC1'\n28. 'FOXC2'\n29. 'PLXND1'\n30. 'ZFPM2'\n31. 'HEY1'\n32. 'HEY2'\n33. 'FZD2'\n34. 'HECTD1'\n35. 'GATA3'\n36. 'GATA4'\n37. 'GATA6'\n38. 'HEYL'\n39. 'GJA5'\n40. 'NPHP3'\n41. 'BMP10'\n42. 'ANK2'\n43. 'GSK3A'\n44. 'NRG1'\n45. 'HIF1A'\n46. 'HES1'\n47. 'NDST1'\n48. 'ID2'\n49. 'CCN1'\n50. 'RBPJ'\n51. 'ISL1'\n52. 'KCNK2'\n53. 'LRP2'\n54. 'LTBP1'\n55. 'MIR1-1'\n56. 'MIR1-2'\n57. 'MIR17HG'\n58. 'SMAD4'\n59. 'SMAD6'\n60. 'SMAD7'\n61. 'MDM2'\n62. 'MDM4'\n63. 'MEF2C'\n64. 'MSX2'\n65. 'MYBPC3'\n66. 'MYH6'\n67. 'MYH7'\n68. 'MYH10'\n69. 'MYL2'\n70. 'MYL3'\n71. 'NOS3'\n72. 'NOTCH1'\n73. 'NOTCH2'\n74. 'NPY2R'\n75. 'NPY5R'\n76. 'PCSK5'\n77. 'PDE2A'\n78. 'SUFU'\n79. 'PKP2'\n80. 'FGFRL1'\n81. 'DLL4'\n82. 'POU4F1'\n83. 'MED1'\n84. 'MKS1'\n85. 'CHD7'\n86. 'PARVA'\n87. 'MESP1'\n88. 'PROX1'\n89. 'TBX20'\n90. 'SALL4'\n91. 'ADGRG6'\n92. 'VANGL2'\n93. 'HEG1'\n94. 'PTK7'\n95. 'OVOL2'\n96. 'RARA'\n97. 'RARB'\n98. 'RBP4'\n99. 'SAV1'\n100. 'ROBO1'\n101. 'ROBO2'\n102. 'RXRA'\n103. 'RYR2'\n104. 'SALL1'\n105. 'SCN5A'\n106. 'PRDM1'\n107. 'STRA6'\n108. 'SFRP2'\n109. 'SHOX2'\n110. 'RBM15'\n111. 'BMP4'\n112. 'CPLANE1'\n113. 'BMP5'\n114. 'BMP7'\n115. 'BMPR1A'\n116. 'SLIT3'\n117. 'BMPR2'\n118. 'SMARCD3'\n119. 'SMO'\n120. 'SOS1'\n121. 'SOX4'\n122. 'SOX11'\n123. 'SRF'\n124. 'TBX1'\n125. 'TBX2'\n126. 'TBX5'\n127. 'TBX3'\n128. 'TEK'\n129. 'TGFB1'\n130. 'TGFB2'\n131. 'TGFBR1'\n132. 'TGFBR2'\n133. 'TGFBR3'\n134. 'TNNC1'\n135. 'TNNI1'\n136. 'TNNI3'\n137. 'TNNT2'\n138. 'TP53'\n139. 'TPM1'\n140. 'NSD2'\n141. 'WNT2'\n142. 'WNT5A'\n143. 'WNT11'\n144. 'ZBTB14'\n145. 'LUZP1'\n146. 'PAX8'\n147. 'CRELD1'\n148. 'PTCD2'\n149. 'GRHL2'\n150. 'GREB1L'\n151. 'NPRL3'\n152. 'ARID1A'\n153. 'FZD1'\n154. 'DCTN5'\n155. 'LMO4'\n156. 'CAV3'\n157. 'DNAH11'\n158. 'NRP2'\n159. 'NRP1'\n160. 'FOXH1'\n161. 'ACVR1'\n162. 'NOG'\n163. 'DHRS3'\n164. 'TRIP11'\n165. 'SLIT2'\n166. 'MYOCD'\n167. 'HAND1'\n168. 'HAND2'\n169. 'ADAMTS1'\n170. 'MATR3'\n171. 'SNX17'\n172. 'MAML1'\n\n\n\n\n\n",
            "text/html": [
              "<dl>\n",
              "\t<dt>$GO_POSITIVE_REGULATION_OF_VIRAL_TRANSCRIPTION</dt>\n",
              "\t\t<dd><style>\n",
              ".list-inline {list-style: none; margin:0; padding: 0}\n",
              ".list-inline>li {display: inline-block}\n",
              ".list-inline>li:not(:last-child)::after {content: \"\\00b7\"; padding: 0 .5ex}\n",
              "</style>\n",
              "<ol class=list-inline><li>'CDK9'</li><li>'CHD1'</li><li>'DHX9'</li><li>'EP300'</li><li>'SNW1'</li><li>'RRP1B'</li><li>'NELFB'</li><li>'GTF2B'</li><li>'GTF2F1'</li><li>'GTF2F2'</li><li>'MDFIC'</li><li>'HPN'</li><li>'JUN'</li><li>'LEF1'</li><li>'ZNF639'</li><li>'NELFCD'</li><li>'RSF1'</li><li>'POLR2A'</li><li>'POLR2B'</li><li>'POLR2C'</li><li>'POLR2D'</li><li>'POLR2E'</li><li>'POLR2F'</li><li>'POLR2G'</li><li>'POLR2H'</li><li>'POLR2I'</li><li>'POLR2J'</li><li>'POLR2K'</li><li>'POLR2L'</li><li>'NUCKS1'</li><li>'SMARCA4'</li><li>'SMARCB1'</li><li>'SP1'</li><li>'SUPT4H1'</li><li>'SUPT5H'</li><li>'TAF11'</li><li>'TFAP4'</li><li>'NELFA'</li><li>'NELFE'</li><li>'CCNT1'</li><li>'CTDP1'</li></ol>\n",
              "</dd>\n",
              "\t<dt>$GO_CARDIAC_CHAMBER_DEVELOPMENT</dt>\n",
              "\t\t<dd><style>\n",
              ".list-inline {list-style: none; margin:0; padding: 0}\n",
              ".list-inline>li {display: inline-block}\n",
              ".list-inline>li:not(:last-child)::after {content: \"\\00b7\"; padding: 0 .5ex}\n",
              "</style>\n",
              "<ol class=list-inline><li>'ZMPSTE24'</li><li>'UBE4B'</li><li>'CITED2'</li><li>'TAB1'</li><li>'SEMA3C'</li><li>'FRS2'</li><li>'PPP1R13L'</li><li>'ADAMTS6'</li><li>'XIRP2'</li><li>'COL11A1'</li><li>'CPE'</li><li>'CCM2L'</li><li>'NKX2-5'</li><li>'TMEM65'</li><li>'ZFPM1'</li><li>'AP2B1'</li><li>'DNM2'</li><li>'JAG1'</li><li>'DSP'</li><li>'DAND5'</li><li>'ENG'</li><li>'FGF8'</li><li>'FGFR2'</li><li>'FHL2'</li><li>'FKBP1A'</li><li>'FOXF1'</li><li>'FOXC1'</li><li>'FOXC2'</li><li>'PLXND1'</li><li>'ZFPM2'</li><li>'HEY1'</li><li>'HEY2'</li><li>'FZD2'</li><li>'HECTD1'</li><li>'GATA3'</li><li>'GATA4'</li><li>'GATA6'</li><li>'HEYL'</li><li>'GJA5'</li><li>'NPHP3'</li><li>'BMP10'</li><li>'ANK2'</li><li>'GSK3A'</li><li>'NRG1'</li><li>'HIF1A'</li><li>'HES1'</li><li>'NDST1'</li><li>'ID2'</li><li>'CCN1'</li><li>'RBPJ'</li><li>'ISL1'</li><li>'KCNK2'</li><li>'LRP2'</li><li>'LTBP1'</li><li>'MIR1-1'</li><li>'MIR1-2'</li><li>'MIR17HG'</li><li>'SMAD4'</li><li>'SMAD6'</li><li>'SMAD7'</li><li>'MDM2'</li><li>'MDM4'</li><li>'MEF2C'</li><li>'MSX2'</li><li>'MYBPC3'</li><li>'MYH6'</li><li>'MYH7'</li><li>'MYH10'</li><li>'MYL2'</li><li>'MYL3'</li><li>'NOS3'</li><li>'NOTCH1'</li><li>'NOTCH2'</li><li>'NPY2R'</li><li>'NPY5R'</li><li>'PCSK5'</li><li>'PDE2A'</li><li>'SUFU'</li><li>'PKP2'</li><li>'FGFRL1'</li><li>'DLL4'</li><li>'POU4F1'</li><li>'MED1'</li><li>'MKS1'</li><li>'CHD7'</li><li>'PARVA'</li><li>'MESP1'</li><li>'PROX1'</li><li>'TBX20'</li><li>'SALL4'</li><li>'ADGRG6'</li><li>'VANGL2'</li><li>'HEG1'</li><li>'PTK7'</li><li>'OVOL2'</li><li>'RARA'</li><li>'RARB'</li><li>'RBP4'</li><li>'SAV1'</li><li>'ROBO1'</li><li>'ROBO2'</li><li>'RXRA'</li><li>'RYR2'</li><li>'SALL1'</li><li>'SCN5A'</li><li>'PRDM1'</li><li>'STRA6'</li><li>'SFRP2'</li><li>'SHOX2'</li><li>'RBM15'</li><li>'BMP4'</li><li>'CPLANE1'</li><li>'BMP5'</li><li>'BMP7'</li><li>'BMPR1A'</li><li>'SLIT3'</li><li>'BMPR2'</li><li>'SMARCD3'</li><li>'SMO'</li><li>'SOS1'</li><li>'SOX4'</li><li>'SOX11'</li><li>'SRF'</li><li>'TBX1'</li><li>'TBX2'</li><li>'TBX5'</li><li>'TBX3'</li><li>'TEK'</li><li>'TGFB1'</li><li>'TGFB2'</li><li>'TGFBR1'</li><li>'TGFBR2'</li><li>'TGFBR3'</li><li>'TNNC1'</li><li>'TNNI1'</li><li>'TNNI3'</li><li>'TNNT2'</li><li>'TP53'</li><li>'TPM1'</li><li>'NSD2'</li><li>'WNT2'</li><li>'WNT5A'</li><li>'WNT11'</li><li>'ZBTB14'</li><li>'LUZP1'</li><li>'PAX8'</li><li>'CRELD1'</li><li>'PTCD2'</li><li>'GRHL2'</li><li>'GREB1L'</li><li>'NPRL3'</li><li>'ARID1A'</li><li>'FZD1'</li><li>'DCTN5'</li><li>'LMO4'</li><li>'CAV3'</li><li>'DNAH11'</li><li>'NRP2'</li><li>'NRP1'</li><li>'FOXH1'</li><li>'ACVR1'</li><li>'NOG'</li><li>'DHRS3'</li><li>'TRIP11'</li><li>'SLIT2'</li><li>'MYOCD'</li><li>'HAND1'</li><li>'HAND2'</li><li>'ADAMTS1'</li><li>'MATR3'</li><li>'SNX17'</li><li>'MAML1'</li></ol>\n",
              "</dd>\n",
              "</dl>\n"
            ]
          },
          "metadata": {
            "tags": []
          }
        }
      ]
    },
    {
      "cell_type": "markdown",
      "metadata": {
        "id": "4GbDL4q_BCyD",
        "colab_type": "text"
      },
      "source": [
        "## Compute gene set enrichment analysis on eQTS ranking:\n"
      ]
    },
    {
      "cell_type": "code",
      "metadata": {
        "id": "KwyD8yfSBHok",
        "colab_type": "code",
        "colab": {}
      },
      "source": [
        "fgsea.res <- NULL\n",
        "#try({\n",
        "  set.seed(1111)\n",
        "  rank <- eQTS[, \"tvalue\"]\n",
        "  names(rank) <- eQTS[, \"id\"]\n",
        "  fgsea.res <- fgsea(gmt,\n",
        "                     rank,\n",
        "                     nperm=10000,\n",
        "                     minSize = 5,\n",
        "                     maxSize=100)\n",
        "  fgsea.res <- fgsea.res[order(fgsea.res$pval), ]\n",
        "#})\n",
        "  \n",
        "#if(is.null(fgsea.res)){\n",
        "#  print(\"'fgsea' is not installed or pathway annotations are missing. Let's load the results ...\")\n",
        "#  download.file(\"https://github.com/heiniglab/symatrial/raw/master/example_data/1k_genomes_fgsea_eQTS.RDS\",\n",
        "#                dest = \"1k_genomes_fgsea_eQTS.RDS\")\n",
        "#  fgsea.res <- data.frame(readRDS(\"1k_genomes_fgsea_eQTS.RDS\"))\n",
        "#  print(\"... fgsea results loaded.\")\n",
        "#}"
      ],
      "execution_count": 0,
      "outputs": []
    },
    {
      "cell_type": "markdown",
      "metadata": {
        "id": "B2d4qqhXg9yS",
        "colab_type": "text"
      },
      "source": [
        "Top five pathways:"
      ]
    },
    {
      "cell_type": "code",
      "metadata": {
        "id": "sBeamPxXg-h6",
        "colab_type": "code",
        "outputId": "f26fbd8d-5bfc-4c51-dd46-ea250f00547d",
        "colab": {
          "base_uri": "https://localhost:8080/",
          "height": 251
        }
      },
      "source": [
        "head(fgsea.res[1:5, ])"
      ],
      "execution_count": 0,
      "outputs": [
        {
          "output_type": "display_data",
          "data": {
            "text/plain": [
              "  pathway                                                 pval        \n",
              "1 GO_REGULATION_OF_MEGAKARYOCYTE_DIFFERENTIATION          0.0006691201\n",
              "2 GO_MEGAKARYOCYTE_DIFFERENTIATION                        0.0006691201\n",
              "3 GO_POSITIVE_REGULATION_OF_CYTOKINE_PRODUCTION           0.0010658708\n",
              "4 GO_CYTOKINE_PRODUCTION                                  0.0020650490\n",
              "5 GO_NEGATIVE_REGULATION_OF_EPITHELIAL_CELL_PROLIFERATION 0.0047528517\n",
              "  padj      ES         NES       nMoreExtreme size\n",
              "1 0.5108732 -0.9102749 -2.069830  1            5  \n",
              "2 0.5108732 -0.9102749 -2.069830  1            5  \n",
              "3 0.5425282  0.5201614  1.674342  9           49  \n",
              "4 0.6551280  0.4738125  1.603331 19           75  \n",
              "5 0.6551280  0.7837181  1.668535 34            7  \n",
              "  leadingEdge                                                                                                                                                                                                                                                                 \n",
              "1 MYL9, TESC, H4C8, H4C9                                                                                                                                                                                                                                                      \n",
              "2 MYL9, TESC, H4C8, H4C9                                                                                                                                                                                                                                                      \n",
              "3 IL17RB , IL10   , RORA   , TIGIT  , CD28   , PTPRJ  , HILPDA , IL18R1 , TNFSF4 , IGHD   , MNDA   , IL12RB2, RASGRP1, RGCC   , CD274  , CD226  , DDX60  , F2R    , IL23R  , NFATC4 , IL6R                                                                                    \n",
              "4 IL17RB , IL10   , BANK1  , RORA   , TIGIT  , LAPTM4B, CD28   , HDAC7  , PTPRJ  , DTX4   , HILPDA , JPH4   , IL18R1 , IL1R2  , TNFSF4 , IGHD   , MNDA   , IL12RB2, RASGRP1, RGCC   , CD274  , CD226  , REL    , DDX60  , F2R    , IL23R  , NFATC4 , NOTCH1 , LEF1   , IL6R   \n",
              "5 SPARC, RGCC , VDR  , SOX9 , FLT1 , CD109, CAV1                                                                                                                                                                                                                              "
            ],
            "text/latex": "A data.table: 5 × 8\n\\begin{tabular}{llllllll}\n pathway & pval & padj & ES & NES & nMoreExtreme & size & leadingEdge\\\\\n <chr> & <dbl> & <dbl> & <dbl> & <dbl> & <dbl> & <int> & <list>\\\\\n\\hline\n\t GO\\_REGULATION\\_OF\\_MEGAKARYOCYTE\\_DIFFERENTIATION          & 0.0006691201 & 0.5108732 & -0.9102749 & -2.069830 &  1 &  5 & MYL9, TESC, H4C8, H4C9\\\\\n\t GO\\_MEGAKARYOCYTE\\_DIFFERENTIATION                        & 0.0006691201 & 0.5108732 & -0.9102749 & -2.069830 &  1 &  5 & MYL9, TESC, H4C8, H4C9\\\\\n\t GO\\_POSITIVE\\_REGULATION\\_OF\\_CYTOKINE\\_PRODUCTION           & 0.0010658708 & 0.5425282 &  0.5201614 &  1.674342 &  9 & 49 & IL17RB , IL10   , RORA   , TIGIT  , CD28   , PTPRJ  , HILPDA , IL18R1 , TNFSF4 , IGHD   , MNDA   , IL12RB2, RASGRP1, RGCC   , CD274  , CD226  , DDX60  , F2R    , IL23R  , NFATC4 , IL6R   \\\\\n\t GO\\_CYTOKINE\\_PRODUCTION                                  & 0.0020650490 & 0.6551280 &  0.4738125 &  1.603331 & 19 & 75 & IL17RB , IL10   , BANK1  , RORA   , TIGIT  , LAPTM4B, CD28   , HDAC7  , PTPRJ  , DTX4   , HILPDA , JPH4   , IL18R1 , IL1R2  , TNFSF4 , IGHD   , MNDA   , IL12RB2, RASGRP1, RGCC   , CD274  , CD226  , REL    , DDX60  , F2R    , IL23R  , NFATC4 , NOTCH1 , LEF1   , IL6R   \\\\\n\t GO\\_NEGATIVE\\_REGULATION\\_OF\\_EPITHELIAL\\_CELL\\_PROLIFERATION & 0.0047528517 & 0.6551280 &  0.7837181 &  1.668535 & 34 &  7 & SPARC, RGCC , VDR  , SOX9 , FLT1 , CD109, CAV1 \\\\\n\\end{tabular}\n",
            "text/markdown": "\nA data.table: 5 × 8\n\n| pathway &lt;chr&gt; | pval &lt;dbl&gt; | padj &lt;dbl&gt; | ES &lt;dbl&gt; | NES &lt;dbl&gt; | nMoreExtreme &lt;dbl&gt; | size &lt;int&gt; | leadingEdge &lt;list&gt; |\n|---|---|---|---|---|---|---|---|\n| GO_REGULATION_OF_MEGAKARYOCYTE_DIFFERENTIATION          | 0.0006691201 | 0.5108732 | -0.9102749 | -2.069830 |  1 |  5 | MYL9, TESC, H4C8, H4C9 |\n| GO_MEGAKARYOCYTE_DIFFERENTIATION                        | 0.0006691201 | 0.5108732 | -0.9102749 | -2.069830 |  1 |  5 | MYL9, TESC, H4C8, H4C9 |\n| GO_POSITIVE_REGULATION_OF_CYTOKINE_PRODUCTION           | 0.0010658708 | 0.5425282 |  0.5201614 |  1.674342 |  9 | 49 | IL17RB , IL10   , RORA   , TIGIT  , CD28   , PTPRJ  , HILPDA , IL18R1 , TNFSF4 , IGHD   , MNDA   , IL12RB2, RASGRP1, RGCC   , CD274  , CD226  , DDX60  , F2R    , IL23R  , NFATC4 , IL6R    |\n| GO_CYTOKINE_PRODUCTION                                  | 0.0020650490 | 0.6551280 |  0.4738125 |  1.603331 | 19 | 75 | IL17RB , IL10   , BANK1  , RORA   , TIGIT  , LAPTM4B, CD28   , HDAC7  , PTPRJ  , DTX4   , HILPDA , JPH4   , IL18R1 , IL1R2  , TNFSF4 , IGHD   , MNDA   , IL12RB2, RASGRP1, RGCC   , CD274  , CD226  , REL    , DDX60  , F2R    , IL23R  , NFATC4 , NOTCH1 , LEF1   , IL6R    |\n| GO_NEGATIVE_REGULATION_OF_EPITHELIAL_CELL_PROLIFERATION | 0.0047528517 | 0.6551280 |  0.7837181 |  1.668535 | 34 |  7 | SPARC, RGCC , VDR  , SOX9 , FLT1 , CD109, CAV1  |\n\n",
            "text/html": [
              "<table>\n",
              "<caption>A data.table: 5 × 8</caption>\n",
              "<thead>\n",
              "\t<tr><th scope=col>pathway</th><th scope=col>pval</th><th scope=col>padj</th><th scope=col>ES</th><th scope=col>NES</th><th scope=col>nMoreExtreme</th><th scope=col>size</th><th scope=col>leadingEdge</th></tr>\n",
              "\t<tr><th scope=col>&lt;chr&gt;</th><th scope=col>&lt;dbl&gt;</th><th scope=col>&lt;dbl&gt;</th><th scope=col>&lt;dbl&gt;</th><th scope=col>&lt;dbl&gt;</th><th scope=col>&lt;dbl&gt;</th><th scope=col>&lt;int&gt;</th><th scope=col>&lt;list&gt;</th></tr>\n",
              "</thead>\n",
              "<tbody>\n",
              "\t<tr><td>GO_REGULATION_OF_MEGAKARYOCYTE_DIFFERENTIATION         </td><td>0.0006691201</td><td>0.5108732</td><td>-0.9102749</td><td>-2.069830</td><td> 1</td><td> 5</td><td>MYL9, TESC, H4C8, H4C9</td></tr>\n",
              "\t<tr><td>GO_MEGAKARYOCYTE_DIFFERENTIATION                       </td><td>0.0006691201</td><td>0.5108732</td><td>-0.9102749</td><td>-2.069830</td><td> 1</td><td> 5</td><td>MYL9, TESC, H4C8, H4C9</td></tr>\n",
              "\t<tr><td>GO_POSITIVE_REGULATION_OF_CYTOKINE_PRODUCTION          </td><td>0.0010658708</td><td>0.5425282</td><td> 0.5201614</td><td> 1.674342</td><td> 9</td><td>49</td><td>IL17RB , IL10   , RORA   , TIGIT  , CD28   , PTPRJ  , HILPDA , IL18R1 , TNFSF4 , IGHD   , MNDA   , IL12RB2, RASGRP1, RGCC   , CD274  , CD226  , DDX60  , F2R    , IL23R  , NFATC4 , IL6R   </td></tr>\n",
              "\t<tr><td>GO_CYTOKINE_PRODUCTION                                 </td><td>0.0020650490</td><td>0.6551280</td><td> 0.4738125</td><td> 1.603331</td><td>19</td><td>75</td><td>IL17RB , IL10   , BANK1  , RORA   , TIGIT  , LAPTM4B, CD28   , HDAC7  , PTPRJ  , DTX4   , HILPDA , JPH4   , IL18R1 , IL1R2  , TNFSF4 , IGHD   , MNDA   , IL12RB2, RASGRP1, RGCC   , CD274  , CD226  , REL    , DDX60  , F2R    , IL23R  , NFATC4 , NOTCH1 , LEF1   , IL6R   </td></tr>\n",
              "\t<tr><td>GO_NEGATIVE_REGULATION_OF_EPITHELIAL_CELL_PROLIFERATION</td><td>0.0047528517</td><td>0.6551280</td><td> 0.7837181</td><td> 1.668535</td><td>34</td><td> 7</td><td>SPARC, RGCC , VDR  , SOX9 , FLT1 , CD109, CAV1 </td></tr>\n",
              "</tbody>\n",
              "</table>\n"
            ]
          },
          "metadata": {
            "tags": []
          }
        }
      ]
    },
    {
      "cell_type": "markdown",
      "metadata": {
        "id": "Qxybeb5bBa1p",
        "colab_type": "text"
      },
      "source": [
        "## Extract the leadingEdge as candidate genes:\n",
        "\n",
        "As this is only an example dataset for demonstration, we choose a significane threshold of P < 0.01. However, for a real analysis we would recommend a much more stringent cutoff based on the adjusted p-value (FDR).\n",
        "\n",
        "For each gene set, the leadingEdge contains the genes that possibly drive the enrichment. We therefore use those genes for significant pathways. To narrow it down further, we check if the same genes are contained in the leadingEdge of multiple pathways.  \n",
        "We take all genes, that appear more than 5 times (8 genes in total) as candidates for the trans eQTL analysis."
      ]
    },
    {
      "cell_type": "code",
      "metadata": {
        "id": "nPDDasH0BbR4",
        "colab_type": "code",
        "outputId": "d68ec9b6-3a62-4a8e-f557-5d07aed4a27d",
        "colab": {
          "base_uri": "https://localhost:8080/",
          "height": 437
        }
      },
      "source": [
        "lead <- data.frame(table(unlist( fgsea.res[fgsea.res$pval<0.01, \"leadingEdge\"])))\n",
        "hist(lead$Freq, breaks = 10,\n",
        "      main = \"Distribution: Frequencies of genes in multiple leading edges:\")"
      ],
      "execution_count": 0,
      "outputs": [
        {
          "output_type": "display_data",
          "data": {
            "image/png": "[encoded data removed]",
            "text/plain": [
              "Plot with title “Distribution: Frequencies of genes in multiple leading edges:”"
            ]
          },
          "metadata": {
            "tags": [],
            "image/png": {
              "width": 420,
              "height": 420
            },
            "text/plain": {
              "width": 420,
              "height": 420
            }
          }
        }
      ]
    },
    {
      "cell_type": "markdown",
      "metadata": {
        "id": "as7kWxEcSmQ7",
        "colab_type": "text"
      },
      "source": [
        "Please note:  \n",
        "Depending on the R version and fgsea package version, the ranking and therefore also the leading edges might differ slightly.\n"
      ]
    },
    {
      "cell_type": "markdown",
      "metadata": {
        "id": "K768HH65jMA2",
        "colab_type": "text"
      },
      "source": [
        "Let's select the top candidates that appear more than 5 times:"
      ]
    },
    {
      "cell_type": "code",
      "metadata": {
        "id": "tpsSwjlnjMN_",
        "colab_type": "code",
        "outputId": "9bd6bb4d-e06c-4b1c-999b-38ad3d733bf1",
        "colab": {
          "base_uri": "https://localhost:8080/",
          "height": 34
        }
      },
      "source": [
        "candidates <- as.character(lead[lead$Freq>5, \"Var1\"])\n",
        "print(candidates)"
      ],
      "execution_count": 0,
      "outputs": [
        {
          "output_type": "stream",
          "text": [
            "[1] \"CD226\"  \"CD274\"  \"CD28\"   \"IGHD\"   \"IL10\"   \"IL23R\"  \"RGCC\"   \"TNFSF4\"\n"
          ],
          "name": "stdout"
        }
      ]
    },
    {
      "cell_type": "markdown",
      "metadata": {
        "id": "vmfAwCsT4Mj4",
        "colab_type": "text"
      },
      "source": [
        "## Run trans eQTL analysis\n",
        "\n",
        "Let's run a trans eQTL analysis for those eight genes and the 109 AF GWAS SNPs:\n"
      ]
    },
    {
      "cell_type": "code",
      "metadata": {
        "id": "vs7OGsjw2Vj_",
        "colab_type": "code",
        "outputId": "4edb986d-4676-49d4-d1be-338e7ff2f098",
        "colab": {
          "base_uri": "https://localhost:8080/",
          "height": 561
        }
      },
      "source": [
        "eQTL <- NULL\n",
        "try({\n",
        "  eQTL <- trans.qtl(prefix = \"/tmp/example\",\n",
        "                    genotype_file_name = \"https://github.com/heiniglab/symatrial/raw/master/example_data/1k_genomes_AF_snps.txt\",\n",
        "                    expression_file_name = t(df[, candidates]),\n",
        "                    covariates_file_name = df$sex,\n",
        "                    threshold = 1,\n",
        "                    compute.all = T,\n",
        "                    min.pv.by.genesnp = T,\n",
        "                    save.memory = F,\n",
        "                    load.qtls = T)\n",
        "})\n",
        "if(is.null(eQTL)){\n",
        "  print(\"Libraries 'MatrixEQTL' and 'eQTLpipeline' not available. Let's load the results...\")\n",
        "  download.file(\"https://github.com/heiniglab/symatrial/raw/master/example_data/1k_genomes_trans_eQTLs.RDS\",\n",
        "                dest = \"1k_genomes_trans_eQTLs.RDS\")\n",
        "  eQTL <- readRDS(\"1k_genomes_trans_eQTLs.RDS\")\n",
        "  print(\"... eQTL results loaded.\")\n",
        "}"
      ],
      "execution_count": 0,
      "outputs": [
        {
          "output_type": "stream",
          "text": [
            "Created expression file from matrix for  8  genes by  272  individuals at:\n",
            " /tmp/example_gene.txt \n",
            "Created covariate file for a single gene for 272 individuals at:\n",
            " /tmp/example_covariate.txt \n"
          ],
          "name": "stdout"
        },
        {
          "output_type": "stream",
          "text": [
            "Rows read: 109 done.\n",
            "\n",
            "Rows read: 8 done.\n",
            "\n",
            "Rows read: 1 done.\n",
            "\n",
            "Processing covariates\n",
            "\n",
            "Task finished in 0.004 seconds\n",
            "\n",
            "Processing gene expression data (imputation, residualization)\n",
            "\n",
            "Task finished in 0.013 seconds\n",
            "\n",
            "Creating output file(s)\n",
            "\n",
            "Task finished in 0.017 seconds\n",
            "\n",
            "Performing eQTL analysis\n",
            "\n",
            "100.00% done, 872 eQTLs\n",
            "\n",
            "Task finished in 0.029 seconds\n",
            "\n",
            "\n",
            "\n"
          ],
          "name": "stderr"
        },
        {
          "output_type": "stream",
          "text": [
            "Analysis of  872 QTLs done in:  0.049  seconds \n",
            "Detected eQTLs:  872 \n"
          ],
          "name": "stdout"
        }
      ]
    },
    {
      "cell_type": "markdown",
      "metadata": {
        "id": "JBrnAKa6jl03",
        "colab_type": "text"
      },
      "source": [
        "Top trans eQTLs:"
      ]
    },
    {
      "cell_type": "code",
      "metadata": {
        "id": "uQzyLqoLjmCB",
        "colab_type": "code",
        "outputId": "a6250438-1b46-4c04-f5c3-39603d2c63c5",
        "colab": {
          "base_uri": "https://localhost:8080/",
          "height": 204
        }
      },
      "source": [
        "head(eQTL$all$eqtls[order(eQTL$all$eqtls$pvalue), ])"
      ],
      "execution_count": 0,
      "outputs": [
        {
          "output_type": "display_data",
          "data": {
            "text/plain": [
              "  snps       gene statistic pvalue       FDR       beta      \n",
              "1 rs17079881 IL10 -3.903975 0.0001196941 0.1043733 -0.2317193\n",
              "2 rs77020228 IGHD -3.591708 0.0003904660 0.1415209 -0.2915202\n",
              "3 rs332388   CD28 -3.522075 0.0005028552 0.1415209 -0.2564119\n",
              "4 rs1044258  IL10  3.450644 0.0006491785 0.1415209  0.1561586\n",
              "5 rs7526131  RGCC  3.312348 0.0010519059 0.1834524  0.1290141\n",
              "6 rs17677363 IGHD  3.224628 0.0014171063 0.2059528  0.3377210"
            ],
            "text/latex": "A data.frame: 6 × 6\n\\begin{tabular}{r|llllll}\n  & snps & gene & statistic & pvalue & FDR & beta\\\\\n  & <fct> & <fct> & <dbl> & <dbl> & <dbl> & <dbl>\\\\\n\\hline\n\t1 & rs17079881 & IL10 & -3.903975 & 0.0001196941 & 0.1043733 & -0.2317193\\\\\n\t2 & rs77020228 & IGHD & -3.591708 & 0.0003904660 & 0.1415209 & -0.2915202\\\\\n\t3 & rs332388   & CD28 & -3.522075 & 0.0005028552 & 0.1415209 & -0.2564119\\\\\n\t4 & rs1044258  & IL10 &  3.450644 & 0.0006491785 & 0.1415209 &  0.1561586\\\\\n\t5 & rs7526131  & RGCC &  3.312348 & 0.0010519059 & 0.1834524 &  0.1290141\\\\\n\t6 & rs17677363 & IGHD &  3.224628 & 0.0014171063 & 0.2059528 &  0.3377210\\\\\n\\end{tabular}\n",
            "text/markdown": "\nA data.frame: 6 × 6\n\n| <!--/--> | snps &lt;fct&gt; | gene &lt;fct&gt; | statistic &lt;dbl&gt; | pvalue &lt;dbl&gt; | FDR &lt;dbl&gt; | beta &lt;dbl&gt; |\n|---|---|---|---|---|---|---|\n| 1 | rs17079881 | IL10 | -3.903975 | 0.0001196941 | 0.1043733 | -0.2317193 |\n| 2 | rs77020228 | IGHD | -3.591708 | 0.0003904660 | 0.1415209 | -0.2915202 |\n| 3 | rs332388   | CD28 | -3.522075 | 0.0005028552 | 0.1415209 | -0.2564119 |\n| 4 | rs1044258  | IL10 |  3.450644 | 0.0006491785 | 0.1415209 |  0.1561586 |\n| 5 | rs7526131  | RGCC |  3.312348 | 0.0010519059 | 0.1834524 |  0.1290141 |\n| 6 | rs17677363 | IGHD |  3.224628 | 0.0014171063 | 0.2059528 |  0.3377210 |\n\n",
            "text/html": [
              "<table>\n",
              "<caption>A data.frame: 6 × 6</caption>\n",
              "<thead>\n",
              "\t<tr><th></th><th scope=col>snps</th><th scope=col>gene</th><th scope=col>statistic</th><th scope=col>pvalue</th><th scope=col>FDR</th><th scope=col>beta</th></tr>\n",
              "\t<tr><th></th><th scope=col>&lt;fct&gt;</th><th scope=col>&lt;fct&gt;</th><th scope=col>&lt;dbl&gt;</th><th scope=col>&lt;dbl&gt;</th><th scope=col>&lt;dbl&gt;</th><th scope=col>&lt;dbl&gt;</th></tr>\n",
              "</thead>\n",
              "<tbody>\n",
              "\t<tr><th scope=row>1</th><td>rs17079881</td><td>IL10</td><td>-3.903975</td><td>0.0001196941</td><td>0.1043733</td><td>-0.2317193</td></tr>\n",
              "\t<tr><th scope=row>2</th><td>rs77020228</td><td>IGHD</td><td>-3.591708</td><td>0.0003904660</td><td>0.1415209</td><td>-0.2915202</td></tr>\n",
              "\t<tr><th scope=row>3</th><td>rs332388  </td><td>CD28</td><td>-3.522075</td><td>0.0005028552</td><td>0.1415209</td><td>-0.2564119</td></tr>\n",
              "\t<tr><th scope=row>4</th><td>rs1044258 </td><td>IL10</td><td> 3.450644</td><td>0.0006491785</td><td>0.1415209</td><td> 0.1561586</td></tr>\n",
              "\t<tr><th scope=row>5</th><td>rs7526131 </td><td>RGCC</td><td> 3.312348</td><td>0.0010519059</td><td>0.1834524</td><td> 0.1290141</td></tr>\n",
              "\t<tr><th scope=row>6</th><td>rs17677363</td><td>IGHD</td><td> 3.224628</td><td>0.0014171063</td><td>0.2059528</td><td> 0.3377210</td></tr>\n",
              "</tbody>\n",
              "</table>\n"
            ]
          },
          "metadata": {
            "tags": []
          }
        }
      ]
    }
  ]
}